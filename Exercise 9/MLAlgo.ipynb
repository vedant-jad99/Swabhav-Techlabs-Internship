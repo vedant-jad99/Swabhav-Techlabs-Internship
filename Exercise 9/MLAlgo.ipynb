{
 "cells": [
  {
   "cell_type": "code",
   "execution_count": 1,
   "metadata": {},
   "outputs": [],
   "source": [
    "import matplotlib.pyplot as plt \n",
    "import numpy as np\n",
    "import seaborn as sns\n",
    "import pandas as pd"
   ]
  },
  {
   "cell_type": "code",
   "execution_count": 3,
   "metadata": {},
   "outputs": [],
   "source": [
    "df=pd.read_csv('final_df.csv')"
   ]
  },
  {
   "cell_type": "code",
   "execution_count": 10,
   "metadata": {},
   "outputs": [],
   "source": [
    "def print_score(actual,prediction):\n",
    "    cm=confusion_matrix(actual,prediction)\n",
    "    tp=cm[1,1]\n",
    "    tn=cm[0,0]\n",
    "    fp=cm[0,1]\n",
    "    fn=cm[1,0]\n",
    "    print(\"Overall Accuracy : \",(tp+tn)/(tp+tn+fp+fn))\n",
    "    print(\"Precision : \",(tp)/(tp+fp))\n",
    "    print(\"Recall or TPR or Sensitivity: \",(tp)/(tp+fn))\n",
    "    print(\"Specificity or TNR: \",(tn)/(tn+fp))\n",
    "    "
   ]
  },
  {
   "cell_type": "code",
   "execution_count": 11,
   "metadata": {},
   "outputs": [],
   "source": [
    "X=df.drop(columns='LoanStatus',axis=1)\n",
    "Y=df['LoanStatus']\n",
    "X=pd.get_dummies(X)\n",
    "from sklearn.model_selection import train_test_split\n",
    "from sklearn.metrics import confusion_matrix\n",
    "X_train,X_test,Y_train,Y_test=train_test_split(X,Y)"
   ]
  },
  {
   "cell_type": "markdown",
   "metadata": {},
   "source": [
    "## Decision Tree"
   ]
  },
  {
   "cell_type": "code",
   "execution_count": 15,
   "metadata": {},
   "outputs": [
    {
     "name": "stdout",
     "output_type": "stream",
     "text": [
      "0.8543478260869565\n",
      "[[19 33]\n",
      " [ 8 94]]\n",
      "Overall Accuracy :  0.7337662337662337\n",
      "Precision :  0.7401574803149606\n",
      "Recall or TPR or Sensitivity:  0.9215686274509803\n",
      "Specificity or TNR:  0.36538461538461536\n",
      "None\n",
      "|--- CreditHistory <= 0.50\n",
      "|   |--- Income_Log <= 8.51\n",
      "|   |   |--- class: 0\n",
      "|   |--- Income_Log >  8.51\n",
      "|   |   |--- LoanAmount_Log <= 4.57\n",
      "|   |   |   |--- class: 1\n",
      "|   |   |--- LoanAmount_Log >  4.57\n",
      "|   |   |   |--- PropertyArea_Semiurban <= 0.50\n",
      "|   |   |   |   |--- class: 0\n",
      "|   |   |   |--- PropertyArea_Semiurban >  0.50\n",
      "|   |   |   |   |--- LoanAmount_Log <= 5.13\n",
      "|   |   |   |   |   |--- class: 1\n",
      "|   |   |   |   |--- LoanAmount_Log >  5.13\n",
      "|   |   |   |   |   |--- class: 0\n",
      "|--- CreditHistory >  0.50\n",
      "|   |--- PropertyArea_Semiurban <= 0.50\n",
      "|   |   |--- Income_Log <= 7.78\n",
      "|   |   |   |--- Gender_Female <= 0.50\n",
      "|   |   |   |   |--- class: 0\n",
      "|   |   |   |--- Gender_Female >  0.50\n",
      "|   |   |   |   |--- Income_Log <= 7.74\n",
      "|   |   |   |   |   |--- class: 1\n",
      "|   |   |   |   |--- Income_Log >  7.74\n",
      "|   |   |   |   |   |--- class: 0\n",
      "|   |   |--- Income_Log >  7.78\n",
      "|   |   |   |--- Income_Log <= 9.81\n",
      "|   |   |   |   |--- LoanAmount_Log <= 4.00\n",
      "|   |   |   |   |   |--- class: 1\n",
      "|   |   |   |   |--- LoanAmount_Log >  4.00\n",
      "|   |   |   |   |   |--- class: 1\n",
      "|   |   |   |--- Income_Log >  9.81\n",
      "|   |   |   |   |--- Income_Log <= 10.75\n",
      "|   |   |   |   |   |--- class: 0\n",
      "|   |   |   |   |--- Income_Log >  10.75\n",
      "|   |   |   |   |   |--- class: 1\n",
      "|   |--- PropertyArea_Semiurban >  0.50\n",
      "|   |   |--- LoanAmountTerm <= 78.00\n",
      "|   |   |   |--- class: 0\n",
      "|   |   |--- LoanAmountTerm >  78.00\n",
      "|   |   |   |--- Married_Yes <= 0.50\n",
      "|   |   |   |   |--- LoanAmount_Log <= 5.24\n",
      "|   |   |   |   |   |--- class: 1\n",
      "|   |   |   |   |--- LoanAmount_Log >  5.24\n",
      "|   |   |   |   |   |--- class: 0\n",
      "|   |   |   |--- Married_Yes >  0.50\n",
      "|   |   |   |   |--- Income_Log <= 8.49\n",
      "|   |   |   |   |   |--- class: 1\n",
      "|   |   |   |   |--- Income_Log >  8.49\n",
      "|   |   |   |   |   |--- class: 1\n",
      "\n"
     ]
    }
   ],
   "source": [
    "from sklearn.tree import DecisionTreeClassifier\n",
    "model=DecisionTreeClassifier(max_depth=5,criterion='entropy')\n",
    "model.fit(X_train,Y_train)\n",
    "print(model.score(X_train,Y_train))\n",
    "Y_pred= model.predict(X_test)\n",
    "print(confusion_matrix(Y_test,Y_pred))\n",
    "print(print_score(Y_test,Y_pred))\n",
    "from sklearn.tree import export_text\n",
    "tree_rules= export_text(model,feature_names=list(X_train))\n",
    "print(tree_rules)"
   ]
  },
  {
   "cell_type": "code",
   "execution_count": 16,
   "metadata": {},
   "outputs": [
    {
     "name": "stdout",
     "output_type": "stream",
     "text": [
      "0.908695652173913\n",
      "[[25 27]\n",
      " [11 91]]\n",
      "Overall Accuracy :  0.7532467532467533\n",
      "Precision :  0.7711864406779662\n",
      "Recall or TPR or Sensitivity:  0.8921568627450981\n",
      "Specificity or TNR:  0.4807692307692308\n",
      "None\n",
      "|--- CreditHistory <= 0.50\n",
      "|   |--- Income_Log <= 8.51\n",
      "|   |   |--- class: 0\n",
      "|   |--- Income_Log >  8.51\n",
      "|   |   |--- LoanAmount_Log <= 4.57\n",
      "|   |   |   |--- class: 1\n",
      "|   |   |--- LoanAmount_Log >  4.57\n",
      "|   |   |   |--- PropertyArea_Semiurban <= 0.50\n",
      "|   |   |   |   |--- class: 0\n",
      "|   |   |   |--- PropertyArea_Semiurban >  0.50\n",
      "|   |   |   |   |--- LoanAmount_Log <= 5.13\n",
      "|   |   |   |   |   |--- Income_Log <= 8.66\n",
      "|   |   |   |   |   |   |--- class: 0\n",
      "|   |   |   |   |   |--- Income_Log >  8.66\n",
      "|   |   |   |   |   |   |--- class: 1\n",
      "|   |   |   |   |--- LoanAmount_Log >  5.13\n",
      "|   |   |   |   |   |--- class: 0\n",
      "|--- CreditHistory >  0.50\n",
      "|   |--- PropertyArea_Semiurban <= 0.50\n",
      "|   |   |--- Income_Log <= 7.78\n",
      "|   |   |   |--- Gender_Male <= 0.50\n",
      "|   |   |   |   |--- LoanAmount_Log <= 4.01\n",
      "|   |   |   |   |   |--- class: 0\n",
      "|   |   |   |   |--- LoanAmount_Log >  4.01\n",
      "|   |   |   |   |   |--- class: 1\n",
      "|   |   |   |--- Gender_Male >  0.50\n",
      "|   |   |   |   |--- class: 0\n",
      "|   |   |--- Income_Log >  7.78\n",
      "|   |   |   |--- Income_Log <= 9.81\n",
      "|   |   |   |   |--- LoanAmount_Log <= 4.00\n",
      "|   |   |   |   |   |--- class: 1\n",
      "|   |   |   |   |--- LoanAmount_Log >  4.00\n",
      "|   |   |   |   |   |--- Income_Log <= 8.19\n",
      "|   |   |   |   |   |   |--- LoanAmount_Log <= 4.88\n",
      "|   |   |   |   |   |   |   |--- Education_Graduate <= 0.50\n",
      "|   |   |   |   |   |   |   |   |--- PropertyArea_Rural <= 0.50\n",
      "|   |   |   |   |   |   |   |   |   |--- class: 1\n",
      "|   |   |   |   |   |   |   |   |--- PropertyArea_Rural >  0.50\n",
      "|   |   |   |   |   |   |   |   |   |--- class: 0\n",
      "|   |   |   |   |   |   |   |--- Education_Graduate >  0.50\n",
      "|   |   |   |   |   |   |   |   |--- Gender_Female <= 0.50\n",
      "|   |   |   |   |   |   |   |   |   |--- Married_Yes <= 0.50\n",
      "|   |   |   |   |   |   |   |   |   |   |--- class: 0\n",
      "|   |   |   |   |   |   |   |   |   |--- Married_Yes >  0.50\n",
      "|   |   |   |   |   |   |   |   |   |   |--- class: 1\n",
      "|   |   |   |   |   |   |   |   |--- Gender_Female >  0.50\n",
      "|   |   |   |   |   |   |   |   |   |--- class: 1\n",
      "|   |   |   |   |   |   |--- LoanAmount_Log >  4.88\n",
      "|   |   |   |   |   |   |   |--- class: 0\n",
      "|   |   |   |   |   |--- Income_Log >  8.19\n",
      "|   |   |   |   |   |   |--- Income_Log <= 8.26\n",
      "|   |   |   |   |   |   |   |--- class: 1\n",
      "|   |   |   |   |   |   |--- Income_Log >  8.26\n",
      "|   |   |   |   |   |   |   |--- Income_Log <= 8.27\n",
      "|   |   |   |   |   |   |   |   |--- class: 0\n",
      "|   |   |   |   |   |   |   |--- Income_Log >  8.27\n",
      "|   |   |   |   |   |   |   |   |--- Income_Log <= 9.65\n",
      "|   |   |   |   |   |   |   |   |   |--- Income_Log <= 9.64\n",
      "|   |   |   |   |   |   |   |   |   |   |--- class: 1\n",
      "|   |   |   |   |   |   |   |   |   |--- Income_Log >  9.64\n",
      "|   |   |   |   |   |   |   |   |   |   |--- class: 0\n",
      "|   |   |   |   |   |   |   |   |--- Income_Log >  9.65\n",
      "|   |   |   |   |   |   |   |   |   |--- class: 1\n",
      "|   |   |   |--- Income_Log >  9.81\n",
      "|   |   |   |   |--- Income_Log <= 10.75\n",
      "|   |   |   |   |   |--- Dependents <= 2.00\n",
      "|   |   |   |   |   |   |--- class: 0\n",
      "|   |   |   |   |   |--- Dependents >  2.00\n",
      "|   |   |   |   |   |   |--- Married_No <= 0.50\n",
      "|   |   |   |   |   |   |   |--- class: 1\n",
      "|   |   |   |   |   |   |--- Married_No >  0.50\n",
      "|   |   |   |   |   |   |   |--- class: 0\n",
      "|   |   |   |   |--- Income_Log >  10.75\n",
      "|   |   |   |   |   |--- class: 1\n",
      "|   |--- PropertyArea_Semiurban >  0.50\n",
      "|   |   |--- LoanAmountTerm <= 78.00\n",
      "|   |   |   |--- class: 0\n",
      "|   |   |--- LoanAmountTerm >  78.00\n",
      "|   |   |   |--- Married_Yes <= 0.50\n",
      "|   |   |   |   |--- LoanAmount_Log <= 5.24\n",
      "|   |   |   |   |   |--- LoanAmountTerm <= 420.00\n",
      "|   |   |   |   |   |   |--- LoanAmount_Log <= 4.86\n",
      "|   |   |   |   |   |   |   |--- LoanAmount_Log <= 4.82\n",
      "|   |   |   |   |   |   |   |   |--- SelfEmployed_Yes <= 0.50\n",
      "|   |   |   |   |   |   |   |   |   |--- LoanAmount_Log <= 4.71\n",
      "|   |   |   |   |   |   |   |   |   |   |--- class: 1\n",
      "|   |   |   |   |   |   |   |   |   |--- LoanAmount_Log >  4.71\n",
      "|   |   |   |   |   |   |   |   |   |   |--- class: 1\n",
      "|   |   |   |   |   |   |   |   |--- SelfEmployed_Yes >  0.50\n",
      "|   |   |   |   |   |   |   |   |   |--- Income_Log <= 8.62\n",
      "|   |   |   |   |   |   |   |   |   |   |--- class: 0\n",
      "|   |   |   |   |   |   |   |   |   |--- Income_Log >  8.62\n",
      "|   |   |   |   |   |   |   |   |   |   |--- class: 1\n",
      "|   |   |   |   |   |   |   |--- LoanAmount_Log >  4.82\n",
      "|   |   |   |   |   |   |   |   |--- SelfEmployed_Yes <= 0.50\n",
      "|   |   |   |   |   |   |   |   |   |--- class: 0\n",
      "|   |   |   |   |   |   |   |   |--- SelfEmployed_Yes >  0.50\n",
      "|   |   |   |   |   |   |   |   |   |--- class: 1\n",
      "|   |   |   |   |   |   |--- LoanAmount_Log >  4.86\n",
      "|   |   |   |   |   |   |   |--- class: 1\n",
      "|   |   |   |   |   |--- LoanAmountTerm >  420.00\n",
      "|   |   |   |   |   |   |--- class: 0\n",
      "|   |   |   |   |--- LoanAmount_Log >  5.24\n",
      "|   |   |   |   |   |--- LoanAmount_Log <= 5.39\n",
      "|   |   |   |   |   |   |--- class: 0\n",
      "|   |   |   |   |   |--- LoanAmount_Log >  5.39\n",
      "|   |   |   |   |   |   |--- class: 1\n",
      "|   |   |   |--- Married_Yes >  0.50\n",
      "|   |   |   |   |--- Income_Log <= 8.49\n",
      "|   |   |   |   |   |--- class: 1\n",
      "|   |   |   |   |--- Income_Log >  8.49\n",
      "|   |   |   |   |   |--- Education_Not Graduate <= 0.50\n",
      "|   |   |   |   |   |   |--- LoanAmount_Log <= 5.56\n",
      "|   |   |   |   |   |   |   |--- Dependents <= 0.50\n",
      "|   |   |   |   |   |   |   |   |--- class: 1\n",
      "|   |   |   |   |   |   |   |--- Dependents >  0.50\n",
      "|   |   |   |   |   |   |   |   |--- Dependents <= 1.50\n",
      "|   |   |   |   |   |   |   |   |   |--- Income_Log <= 8.79\n",
      "|   |   |   |   |   |   |   |   |   |   |--- class: 1\n",
      "|   |   |   |   |   |   |   |   |   |--- Income_Log >  8.79\n",
      "|   |   |   |   |   |   |   |   |   |   |--- class: 1\n",
      "|   |   |   |   |   |   |   |   |--- Dependents >  1.50\n",
      "|   |   |   |   |   |   |   |   |   |--- class: 1\n",
      "|   |   |   |   |   |   |--- LoanAmount_Log >  5.56\n",
      "|   |   |   |   |   |   |   |--- LoanAmount_Log <= 5.83\n",
      "|   |   |   |   |   |   |   |   |--- SelfEmployed_Yes <= 0.50\n",
      "|   |   |   |   |   |   |   |   |   |--- class: 0\n",
      "|   |   |   |   |   |   |   |   |--- SelfEmployed_Yes >  0.50\n",
      "|   |   |   |   |   |   |   |   |   |--- class: 1\n",
      "|   |   |   |   |   |   |   |--- LoanAmount_Log >  5.83\n",
      "|   |   |   |   |   |   |   |   |--- class: 1\n",
      "|   |   |   |   |   |--- Education_Not Graduate >  0.50\n",
      "|   |   |   |   |   |   |--- Income_Log <= 8.57\n",
      "|   |   |   |   |   |   |   |--- class: 0\n",
      "|   |   |   |   |   |   |--- Income_Log >  8.57\n",
      "|   |   |   |   |   |   |   |--- LoanAmountTerm <= 420.00\n",
      "|   |   |   |   |   |   |   |   |--- class: 1\n",
      "|   |   |   |   |   |   |   |--- LoanAmountTerm >  420.00\n",
      "|   |   |   |   |   |   |   |   |--- class: 0\n",
      "\n"
     ]
    }
   ],
   "source": [
    "from sklearn.tree import DecisionTreeClassifier\n",
    "model=DecisionTreeClassifier(max_depth=10,criterion='entropy')\n",
    "model.fit(X_train,Y_train)\n",
    "print(model.score(X_train,Y_train))\n",
    "Y_pred= model.predict(X_test)\n",
    "print(confusion_matrix(Y_test,Y_pred))\n",
    "print(print_score(Y_test,Y_pred))\n",
    "from sklearn.tree import export_text\n",
    "tree_rules= export_text(model,feature_names=list(X_train))\n",
    "print(tree_rules)"
   ]
  },
  {
   "cell_type": "markdown",
   "metadata": {},
   "source": [
    "## Random Forest"
   ]
  },
  {
   "cell_type": "code",
   "execution_count": 17,
   "metadata": {},
   "outputs": [
    {
     "name": "stdout",
     "output_type": "stream",
     "text": [
      "0.9891304347826086\n",
      "[[27 25]\n",
      " [16 86]]\n",
      "Overall Accuracy :  0.7337662337662337\n",
      "Precision :  0.7747747747747747\n",
      "Recall or TPR or Sensitivity:  0.8431372549019608\n",
      "Specificity or TNR:  0.5192307692307693\n",
      "None\n"
     ]
    }
   ],
   "source": [
    "from sklearn.ensemble import RandomForestClassifier\n",
    "model=RandomForestClassifier(n_estimators=10)\n",
    "model.fit(X_train,Y_train)\n",
    "print(model.score(X_train,Y_train))\n",
    "Y_pred= model.predict(X_test)\n",
    "print(confusion_matrix(Y_test,Y_pred))\n",
    "print(print_score(Y_test,Y_pred))\n"
   ]
  },
  {
   "cell_type": "markdown",
   "metadata": {},
   "source": [
    "## Knn"
   ]
  },
  {
   "cell_type": "code",
   "execution_count": 19,
   "metadata": {},
   "outputs": [
    {
     "name": "stdout",
     "output_type": "stream",
     "text": [
      "0.8130434782608695\n",
      "[[12 40]\n",
      " [ 7 95]]\n",
      "Overall Accuracy :  0.6948051948051948\n",
      "Precision :  0.7037037037037037\n",
      "Recall or TPR or Sensitivity:  0.9313725490196079\n",
      "Specificity or TNR:  0.23076923076923078\n",
      "None\n"
     ]
    }
   ],
   "source": [
    "from sklearn.neighbors import KNeighborsClassifier\n",
    "model=KNeighborsClassifier(n_neighbors=5)\n",
    "model.fit(X_train,Y_train)\n",
    "print(model.score(X_train,Y_train))\n",
    "Y_pred= model.predict(X_test)\n",
    "print(confusion_matrix(Y_test,Y_pred))\n",
    "print(print_score(Y_test,Y_pred))"
   ]
  },
  {
   "cell_type": "markdown",
   "metadata": {},
   "source": [
    "## Naive bayes"
   ]
  },
  {
   "cell_type": "code",
   "execution_count": 20,
   "metadata": {},
   "outputs": [
    {
     "name": "stdout",
     "output_type": "stream",
     "text": [
      "0.8260869565217391\n",
      "[[21 31]\n",
      " [ 9 93]]\n",
      "Overall Accuracy :  0.7402597402597403\n",
      "Precision :  0.75\n",
      "Recall or TPR or Sensitivity:  0.9117647058823529\n",
      "Specificity or TNR:  0.40384615384615385\n",
      "None\n"
     ]
    }
   ],
   "source": [
    "from sklearn.naive_bayes import GaussianNB\n",
    "model=GaussianNB()\n",
    "model.fit(X_train,Y_train)\n",
    "print(model.score(X_train,Y_train))\n",
    "Y_pred= model.predict(X_test)\n",
    "print(confusion_matrix(Y_test,Y_pred))\n",
    "print(print_score(Y_test,Y_pred))"
   ]
  },
  {
   "cell_type": "markdown",
   "metadata": {},
   "source": [
    "## SVM"
   ]
  },
  {
   "cell_type": "code",
   "execution_count": 21,
   "metadata": {},
   "outputs": [
    {
     "name": "stdout",
     "output_type": "stream",
     "text": [
      "0.6956521739130435\n",
      "[[  0  52]\n",
      " [  0 102]]\n",
      "Overall Accuracy :  0.6623376623376623\n",
      "Precision :  0.6623376623376623\n",
      "Recall or TPR or Sensitivity:  1.0\n",
      "Specificity or TNR:  0.0\n",
      "None\n"
     ]
    }
   ],
   "source": [
    "from sklearn.svm import SVC\n",
    "model=SVC()\n",
    "model.fit(X_train,Y_train)\n",
    "print(model.score(X_train,Y_train))\n",
    "Y_pred= model.predict(X_test)\n",
    "print(confusion_matrix(Y_test,Y_pred))\n",
    "print(print_score(Y_test,Y_pred))"
   ]
  },
  {
   "cell_type": "code",
   "execution_count": null,
   "metadata": {},
   "outputs": [],
   "source": []
  }
 ],
 "metadata": {
  "kernelspec": {
   "display_name": "Python 3",
   "language": "python",
   "name": "python3"
  },
  "language_info": {
   "codemirror_mode": {
    "name": "ipython",
    "version": 3
   },
   "file_extension": ".py",
   "mimetype": "text/x-python",
   "name": "python",
   "nbconvert_exporter": "python",
   "pygments_lexer": "ipython3",
   "version": "3.7.6"
  }
 },
 "nbformat": 4,
 "nbformat_minor": 4
}
