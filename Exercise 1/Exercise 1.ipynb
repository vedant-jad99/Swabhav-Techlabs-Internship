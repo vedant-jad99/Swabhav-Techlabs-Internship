{
 "cells": [
  {
   "cell_type": "markdown",
   "metadata": {},
   "source": [
    "### Taking data from website (in string format)"
   ]
  },
  {
   "cell_type": "code",
   "execution_count": 6,
   "metadata": {},
   "outputs": [],
   "source": [
    "string = \"\"\"7698,'BLAKE','MANAGER',7839,'1-MAY-81',2850,NULL,30\n",
    "7369,'SMITH','CLERK',7902,'17-DEC-80',800,NULL,20\n",
    "7788,'SCOTT','ANALYST',7566,'09-DEC-82',3000,NULL,20\n",
    "7934,'MILLER','CLERK',7782,'23-JAN-82',1300,NULL,10\n",
    "7654,'MARTIN','SALESMAN',7698,'28-SEP-81',1250,1400,30\n",
    "7499,'ALLEN','SALESMAN',7698,'20-FEB-81',1600,300,30\n",
    "7782,'CLARK','MANAGER',7839,'9-JUN-81',2450,NULL,10\n",
    "7844,'TURNER','SALESMAN',7698,'8-SEP-81',1500,0,30\n",
    "7900,'JAMES','CLERK',7698,'3-DEC-81',950,NULL,30\n",
    "7521,'WARD','SALESMAN',7698,'22-FEB-81',1250,500,30\n",
    "7902,'FORD','ANALYST',7566,'3-DEC-81',3000,NULL,20\n",
    "7876,'ADAMS','CLERK',7788,'12-JAN-83',1100,NULL,20\n",
    "7566,'JONES','MANAGER',7839,'2-APR-81',2975,NULL,20\n",
    "7698,'BLAKE','MANAGER',7839,'1-MAY-81',2850,NULL,30\n",
    "7369,'SMITH','CLERK',7902,'17-DEC-80',800,NULL,20\n",
    "7788,'SCOTT','ANALYST',7566,'09-DEC-82',3000,NULL,20\n",
    "7654,'MARTIN','SALESMAN',7698,'28-SEP-81',1250,1400,30\n",
    "7499,'ALLEN','SALESMAN',7698,'20-FEB-81',1600,300,30\n",
    "7839,'KING-WEB','PRESIDENT',NULL,'17-NOV-81',15000,NULL,10\n",
    "7782,'CLARK','MANAGER',7839,'9-JUN-81',2450,NULL,10\n",
    "7844,'TURNER','SALESMAN',7698,'8-SEP-81',1500,0,30\n",
    "7900,'JAMES','CLERK',7698,'3-DEC-81',950,NULL,30\"\"\""
   ]
  },
  {
   "cell_type": "markdown",
   "metadata": {},
   "source": [
    "### Converting string data to list to clean and remove duplicate values "
   ]
  },
  {
   "cell_type": "code",
   "execution_count": 7,
   "metadata": {},
   "outputs": [
    {
     "name": "stdout",
     "output_type": "stream",
     "text": [
      "Before:\n"
     ]
    },
    {
     "data": {
      "text/plain": [
       "[\"7369,'SMITH','CLERK',7902,'17-DEC-80',800,NULL,20\",\n",
       " \"7369,'SMITH','CLERK',7902,'17-DEC-80',800,NULL,20\",\n",
       " \"7499,'ALLEN','SALESMAN',7698,'20-FEB-81',1600,300,30\",\n",
       " \"7499,'ALLEN','SALESMAN',7698,'20-FEB-81',1600,300,30\",\n",
       " \"7521,'WARD','SALESMAN',7698,'22-FEB-81',1250,500,30\",\n",
       " \"7566,'JONES','MANAGER',7839,'2-APR-81',2975,NULL,20\",\n",
       " \"7654,'MARTIN','SALESMAN',7698,'28-SEP-81',1250,1400,30\",\n",
       " \"7654,'MARTIN','SALESMAN',7698,'28-SEP-81',1250,1400,30\",\n",
       " \"7698,'BLAKE','MANAGER',7839,'1-MAY-81',2850,NULL,30\",\n",
       " \"7698,'BLAKE','MANAGER',7839,'1-MAY-81',2850,NULL,30\",\n",
       " \"7782,'CLARK','MANAGER',7839,'9-JUN-81',2450,NULL,10\",\n",
       " \"7782,'CLARK','MANAGER',7839,'9-JUN-81',2450,NULL,10\",\n",
       " \"7788,'SCOTT','ANALYST',7566,'09-DEC-82',3000,NULL,20\",\n",
       " \"7788,'SCOTT','ANALYST',7566,'09-DEC-82',3000,NULL,20\",\n",
       " \"7839,'KING-WEB','PRESIDENT',NULL,'17-NOV-81',15000,NULL,10\",\n",
       " \"7844,'TURNER','SALESMAN',7698,'8-SEP-81',1500,0,30\",\n",
       " \"7844,'TURNER','SALESMAN',7698,'8-SEP-81',1500,0,30\",\n",
       " \"7876,'ADAMS','CLERK',7788,'12-JAN-83',1100,NULL,20\",\n",
       " \"7900,'JAMES','CLERK',7698,'3-DEC-81',950,NULL,30\",\n",
       " \"7900,'JAMES','CLERK',7698,'3-DEC-81',950,NULL,30\",\n",
       " \"7902,'FORD','ANALYST',7566,'3-DEC-81',3000,NULL,20\",\n",
       " \"7934,'MILLER','CLERK',7782,'23-JAN-82',1300,NULL,10\"]"
      ]
     },
     "execution_count": 7,
     "metadata": {},
     "output_type": "execute_result"
    }
   ],
   "source": [
    "string = string.split('\\n')\n",
    "print(\"Before:\")\n",
    "sorted(string)"
   ]
  },
  {
   "cell_type": "markdown",
   "metadata": {},
   "source": [
    "### Removing duplicate data by converting sorted list to set, and back to list"
   ]
  },
  {
   "cell_type": "code",
   "execution_count": 8,
   "metadata": {},
   "outputs": [
    {
     "name": "stdout",
     "output_type": "stream",
     "text": [
      "After\n"
     ]
    },
    {
     "data": {
      "text/plain": [
       "[\"7369,'SMITH','CLERK',7902,'17-DEC-80',800,NULL,20\",\n",
       " \"7499,'ALLEN','SALESMAN',7698,'20-FEB-81',1600,300,30\",\n",
       " \"7521,'WARD','SALESMAN',7698,'22-FEB-81',1250,500,30\",\n",
       " \"7566,'JONES','MANAGER',7839,'2-APR-81',2975,NULL,20\",\n",
       " \"7654,'MARTIN','SALESMAN',7698,'28-SEP-81',1250,1400,30\",\n",
       " \"7698,'BLAKE','MANAGER',7839,'1-MAY-81',2850,NULL,30\",\n",
       " \"7782,'CLARK','MANAGER',7839,'9-JUN-81',2450,NULL,10\",\n",
       " \"7788,'SCOTT','ANALYST',7566,'09-DEC-82',3000,NULL,20\",\n",
       " \"7839,'KING-WEB','PRESIDENT',NULL,'17-NOV-81',15000,NULL,10\",\n",
       " \"7844,'TURNER','SALESMAN',7698,'8-SEP-81',1500,0,30\",\n",
       " \"7876,'ADAMS','CLERK',7788,'12-JAN-83',1100,NULL,20\",\n",
       " \"7900,'JAMES','CLERK',7698,'3-DEC-81',950,NULL,30\",\n",
       " \"7902,'FORD','ANALYST',7566,'3-DEC-81',3000,NULL,20\",\n",
       " \"7934,'MILLER','CLERK',7782,'23-JAN-82',1300,NULL,10\"]"
      ]
     },
     "execution_count": 8,
     "metadata": {},
     "output_type": "execute_result"
    }
   ],
   "source": [
    "string = list(set(sorted(string)))\n",
    "print(\"After\")\n",
    "sorted(string)"
   ]
  },
  {
   "cell_type": "markdown",
   "metadata": {},
   "source": [
    "### Converting data to a proper dataframe, and further preprocessing.\n",
    "Here the column heads are 'number', 'name', 'designation', 'manager id', 'date of joining(doj)', 'salary(sal)', 'commission' and 'department number(deptno)'. \n",
    "Further preprocessing involves removing unnecessary quotes. \n",
    "#### The cleaned data is stored in an emp_clean.csv file"
   ]
  },
  {
   "cell_type": "code",
   "execution_count": 10,
   "metadata": {},
   "outputs": [],
   "source": [
    "import pandas as pd\n",
    "import os\n",
    "\n",
    "titles = {'no': [],'name': [],'designation': [],'managerid': [],'doj': [],'sal': [],'commission': [],'deptno': []}\n",
    "for i in sorted(string):\n",
    "    li = i.split(',')\n",
    "    for title, val in zip(titles, li):\n",
    "        if title == 'name' or title == 'designation' or title == 'doj':\n",
    "            val = val[1:-1]\n",
    "        titles[title].append(val)\n",
    "\n",
    "data = pd.DataFrame(titles)\n",
    "data.to_csv(os.path.join(os.getcwd(), 'emp_clean.csv'), index=False)"
   ]
  },
  {
   "cell_type": "markdown",
   "metadata": {},
   "source": [
    "### The data is grouped according to 'designation'."
   ]
  },
  {
   "cell_type": "code",
   "execution_count": 11,
   "metadata": {},
   "outputs": [
    {
     "name": "stdout",
     "output_type": "stream",
     "text": [
      "{'ANALYST': Int64Index([7, 12], dtype='int64'), 'CLERK': Int64Index([0, 10, 11, 13], dtype='int64'), 'MANAGER': Int64Index([3, 5, 6], dtype='int64'), 'PRESIDENT': Int64Index([8], dtype='int64'), 'SALESMAN': Int64Index([1, 2, 4, 9], dtype='int64')}\n"
     ]
    },
    {
     "data": {
      "text/html": [
       "<div>\n",
       "<style scoped>\n",
       "    .dataframe tbody tr th:only-of-type {\n",
       "        vertical-align: middle;\n",
       "    }\n",
       "\n",
       "    .dataframe tbody tr th {\n",
       "        vertical-align: top;\n",
       "    }\n",
       "\n",
       "    .dataframe thead th {\n",
       "        text-align: right;\n",
       "    }\n",
       "</style>\n",
       "<table border=\"1\" class=\"dataframe\">\n",
       "  <thead>\n",
       "    <tr style=\"text-align: right;\">\n",
       "      <th></th>\n",
       "      <th>no</th>\n",
       "      <th>name</th>\n",
       "      <th>designation</th>\n",
       "      <th>managerid</th>\n",
       "      <th>doj</th>\n",
       "      <th>sal</th>\n",
       "      <th>commission</th>\n",
       "      <th>deptno</th>\n",
       "    </tr>\n",
       "  </thead>\n",
       "  <tbody>\n",
       "    <tr>\n",
       "      <th>8</th>\n",
       "      <td>7839</td>\n",
       "      <td>KING-WEB</td>\n",
       "      <td>PRESIDENT</td>\n",
       "      <td>NULL</td>\n",
       "      <td>17-NOV-81</td>\n",
       "      <td>15000</td>\n",
       "      <td>NULL</td>\n",
       "      <td>10</td>\n",
       "    </tr>\n",
       "  </tbody>\n",
       "</table>\n",
       "</div>"
      ],
      "text/plain": [
       "     no      name designation managerid        doj    sal commission deptno\n",
       "8  7839  KING-WEB   PRESIDENT      NULL  17-NOV-81  15000       NULL     10"
      ]
     },
     "execution_count": 11,
     "metadata": {},
     "output_type": "execute_result"
    }
   ],
   "source": [
    "group = data.groupby('designation')\n",
    "print(group.groups)\n",
    "group.get_group('PRESIDENT')"
   ]
  },
  {
   "cell_type": "markdown",
   "metadata": {},
   "source": [
    "### The grouped data is pickled in an 'emps.dat' file"
   ]
  },
  {
   "cell_type": "code",
   "execution_count": 12,
   "metadata": {},
   "outputs": [],
   "source": [
    "import pickle as pkl\n",
    "\n",
    "file = os.path.join(os.getcwd(), 'emps.dat')\n",
    "with open(file, \"wb\") as f:\n",
    "    pkl.dump(group, f)"
   ]
  },
  {
   "cell_type": "markdown",
   "metadata": {},
   "source": [
    "### Loading the data from 'emps.dat' file\n",
    "In the next cell, we are checking the unpickled data from the 'emps.dat'."
   ]
  },
  {
   "cell_type": "code",
   "execution_count": 13,
   "metadata": {},
   "outputs": [],
   "source": [
    "import pickle as pkl\n",
    "\n",
    "file = None\n",
    "for i in os.listdir(os.getcwd()):\n",
    "    if \".dat\" in i:\n",
    "        file = i\n",
    "        break\n",
    "        \n",
    "with open(file, \"rb\") as f:\n",
    "    data_load = pkl.load(f)\n",
    "    f.close()"
   ]
  },
  {
   "cell_type": "code",
   "execution_count": 14,
   "metadata": {},
   "outputs": [
    {
     "name": "stdout",
     "output_type": "stream",
     "text": [
      "<pandas.core.groupby.generic.DataFrameGroupBy object at 0x7fc2f7ada430>\n",
      "\n",
      "ANALYST Int64Index([7, 12], dtype='int64')\n",
      "CLERK Int64Index([0, 10, 11, 13], dtype='int64')\n",
      "MANAGER Int64Index([3, 5, 6], dtype='int64')\n",
      "PRESIDENT Int64Index([8], dtype='int64')\n",
      "SALESMAN Int64Index([1, 2, 4, 9], dtype='int64')\n",
      "\n",
      "\n",
      "\n",
      "      no   name designation managerid        doj   sal commission deptno\n",
      "7   7788  SCOTT     ANALYST      7566  09-DEC-82  3000       NULL     20\n",
      "12  7902   FORD     ANALYST      7566   3-DEC-81  3000       NULL     20\n",
      "\n",
      "      no    name designation managerid        doj   sal commission deptno\n",
      "0   7369   SMITH       CLERK      7902  17-DEC-80   800       NULL     20\n",
      "10  7876   ADAMS       CLERK      7788  12-JAN-83  1100       NULL     20\n",
      "11  7900   JAMES       CLERK      7698   3-DEC-81   950       NULL     30\n",
      "13  7934  MILLER       CLERK      7782  23-JAN-82  1300       NULL     10\n",
      "\n",
      "     no   name designation managerid       doj   sal commission deptno\n",
      "3  7566  JONES     MANAGER      7839  2-APR-81  2975       NULL     20\n",
      "5  7698  BLAKE     MANAGER      7839  1-MAY-81  2850       NULL     30\n",
      "6  7782  CLARK     MANAGER      7839  9-JUN-81  2450       NULL     10\n",
      "\n",
      "     no      name designation managerid        doj    sal commission deptno\n",
      "8  7839  KING-WEB   PRESIDENT      NULL  17-NOV-81  15000       NULL     10\n",
      "\n",
      "     no    name designation managerid        doj   sal commission deptno\n",
      "1  7499   ALLEN    SALESMAN      7698  20-FEB-81  1600        300     30\n",
      "2  7521    WARD    SALESMAN      7698  22-FEB-81  1250        500     30\n",
      "4  7654  MARTIN    SALESMAN      7698  28-SEP-81  1250       1400     30\n",
      "9  7844  TURNER    SALESMAN      7698   8-SEP-81  1500          0     30\n",
      "\n"
     ]
    }
   ],
   "source": [
    "print(data_load, end=\"\\n\\n\")\n",
    "for i in data_load.groups:\n",
    "    print(i, data_load.groups[i])\n",
    "\n",
    "print(\"\\n\\n\")\n",
    "for i in data_load.groups:\n",
    "    print(data_load.get_group(i), end=\"\\n\\n\")"
   ]
  },
  {
   "cell_type": "markdown",
   "metadata": {},
   "source": [
    "### Zipping three arrays and finding the max element\n",
    "In this code, we zip 3 arrays together and find the most frequent element(s). The arrays are created using `randint()` function. "
   ]
  },
  {
   "cell_type": "code",
   "execution_count": 15,
   "metadata": {},
   "outputs": [
    {
     "name": "stdout",
     "output_type": "stream",
     "text": [
      "[4, 4, 8, 8, 8, 9, 9, 14, 14, 17, 19, 19, 19, 20, 20]\n",
      "[1, 2, 3, 5, 5, 5, 5, 5, 6, 14, 14, 18, 19, 20, 20]\n",
      "[4, 5, 5, 6, 8, 8, 10, 10, 12, 14, 14, 16, 19, 19, 20]\n",
      "{4: 3, 3: 1, 10: 2, 8: 5, 20: 5, 12: 1, 14: 6, 5: 7, 19: 6, 17: 1, 6: 2, 9: 2, 1: 1, 18: 1, 2: 1, 16: 1}\n"
     ]
    },
    {
     "data": {
      "text/plain": [
       "[5]"
      ]
     },
     "execution_count": 15,
     "metadata": {},
     "output_type": "execute_result"
    }
   ],
   "source": [
    "from random import randint\n",
    "from collections import Counter\n",
    "import numpy as np\n",
    "\n",
    "random_list = [np.array([randint(1, 20) for i in range(15)], dtype='int64') for i in range(3)]\n",
    "[a, b, c] = random_list\n",
    "freq = {}\n",
    "\n",
    "for i, j, k in zip(a, b, c):\n",
    "    for val in [i, j, k]:\n",
    "        if val in freq:\n",
    "            freq[val] += 1\n",
    "        else: \n",
    "            freq[val] = 1\n",
    "            \n",
    "for i in random_list:\n",
    "    print(sorted(i))\n",
    "    \n",
    "print(freq)\n",
    "\n",
    "freq = Counter(freq).most_common()\n",
    "max_freq = -1; freq_ele = []\n",
    "for i in freq:\n",
    "    if i[1] >= max_freq:\n",
    "        max_freq = i[1]\n",
    "        freq_ele.append(i[0])\n",
    "        continue\n",
    "    break\n",
    "\n",
    "freq_ele"
   ]
  },
  {
   "cell_type": "markdown",
   "metadata": {},
   "source": [
    "### List Comprehension\n",
    "1. Creating list of all the employees having without commission(NULL)\n",
    "2. Creating list of all the employees in department number 10 and 20"
   ]
  },
  {
   "cell_type": "code",
   "execution_count": 16,
   "metadata": {},
   "outputs": [
    {
     "data": {
      "text/html": [
       "<div>\n",
       "<style scoped>\n",
       "    .dataframe tbody tr th:only-of-type {\n",
       "        vertical-align: middle;\n",
       "    }\n",
       "\n",
       "    .dataframe tbody tr th {\n",
       "        vertical-align: top;\n",
       "    }\n",
       "\n",
       "    .dataframe thead th {\n",
       "        text-align: right;\n",
       "    }\n",
       "</style>\n",
       "<table border=\"1\" class=\"dataframe\">\n",
       "  <thead>\n",
       "    <tr style=\"text-align: right;\">\n",
       "      <th></th>\n",
       "      <th>no</th>\n",
       "      <th>name</th>\n",
       "      <th>designation</th>\n",
       "      <th>managerid</th>\n",
       "      <th>doj</th>\n",
       "      <th>sal</th>\n",
       "      <th>commission</th>\n",
       "      <th>deptno</th>\n",
       "    </tr>\n",
       "  </thead>\n",
       "  <tbody>\n",
       "    <tr>\n",
       "      <th>0</th>\n",
       "      <td>7369</td>\n",
       "      <td>SMITH</td>\n",
       "      <td>CLERK</td>\n",
       "      <td>7902</td>\n",
       "      <td>17-DEC-80</td>\n",
       "      <td>800</td>\n",
       "      <td>NULL</td>\n",
       "      <td>20</td>\n",
       "    </tr>\n",
       "    <tr>\n",
       "      <th>1</th>\n",
       "      <td>7499</td>\n",
       "      <td>ALLEN</td>\n",
       "      <td>SALESMAN</td>\n",
       "      <td>7698</td>\n",
       "      <td>20-FEB-81</td>\n",
       "      <td>1600</td>\n",
       "      <td>300</td>\n",
       "      <td>30</td>\n",
       "    </tr>\n",
       "    <tr>\n",
       "      <th>2</th>\n",
       "      <td>7521</td>\n",
       "      <td>WARD</td>\n",
       "      <td>SALESMAN</td>\n",
       "      <td>7698</td>\n",
       "      <td>22-FEB-81</td>\n",
       "      <td>1250</td>\n",
       "      <td>500</td>\n",
       "      <td>30</td>\n",
       "    </tr>\n",
       "    <tr>\n",
       "      <th>3</th>\n",
       "      <td>7566</td>\n",
       "      <td>JONES</td>\n",
       "      <td>MANAGER</td>\n",
       "      <td>7839</td>\n",
       "      <td>2-APR-81</td>\n",
       "      <td>2975</td>\n",
       "      <td>NULL</td>\n",
       "      <td>20</td>\n",
       "    </tr>\n",
       "    <tr>\n",
       "      <th>4</th>\n",
       "      <td>7654</td>\n",
       "      <td>MARTIN</td>\n",
       "      <td>SALESMAN</td>\n",
       "      <td>7698</td>\n",
       "      <td>28-SEP-81</td>\n",
       "      <td>1250</td>\n",
       "      <td>1400</td>\n",
       "      <td>30</td>\n",
       "    </tr>\n",
       "    <tr>\n",
       "      <th>5</th>\n",
       "      <td>7698</td>\n",
       "      <td>BLAKE</td>\n",
       "      <td>MANAGER</td>\n",
       "      <td>7839</td>\n",
       "      <td>1-MAY-81</td>\n",
       "      <td>2850</td>\n",
       "      <td>NULL</td>\n",
       "      <td>30</td>\n",
       "    </tr>\n",
       "    <tr>\n",
       "      <th>6</th>\n",
       "      <td>7782</td>\n",
       "      <td>CLARK</td>\n",
       "      <td>MANAGER</td>\n",
       "      <td>7839</td>\n",
       "      <td>9-JUN-81</td>\n",
       "      <td>2450</td>\n",
       "      <td>NULL</td>\n",
       "      <td>10</td>\n",
       "    </tr>\n",
       "    <tr>\n",
       "      <th>7</th>\n",
       "      <td>7788</td>\n",
       "      <td>SCOTT</td>\n",
       "      <td>ANALYST</td>\n",
       "      <td>7566</td>\n",
       "      <td>09-DEC-82</td>\n",
       "      <td>3000</td>\n",
       "      <td>NULL</td>\n",
       "      <td>20</td>\n",
       "    </tr>\n",
       "    <tr>\n",
       "      <th>8</th>\n",
       "      <td>7839</td>\n",
       "      <td>KING-WEB</td>\n",
       "      <td>PRESIDENT</td>\n",
       "      <td>NULL</td>\n",
       "      <td>17-NOV-81</td>\n",
       "      <td>15000</td>\n",
       "      <td>NULL</td>\n",
       "      <td>10</td>\n",
       "    </tr>\n",
       "    <tr>\n",
       "      <th>9</th>\n",
       "      <td>7844</td>\n",
       "      <td>TURNER</td>\n",
       "      <td>SALESMAN</td>\n",
       "      <td>7698</td>\n",
       "      <td>8-SEP-81</td>\n",
       "      <td>1500</td>\n",
       "      <td>0</td>\n",
       "      <td>30</td>\n",
       "    </tr>\n",
       "    <tr>\n",
       "      <th>10</th>\n",
       "      <td>7876</td>\n",
       "      <td>ADAMS</td>\n",
       "      <td>CLERK</td>\n",
       "      <td>7788</td>\n",
       "      <td>12-JAN-83</td>\n",
       "      <td>1100</td>\n",
       "      <td>NULL</td>\n",
       "      <td>20</td>\n",
       "    </tr>\n",
       "    <tr>\n",
       "      <th>11</th>\n",
       "      <td>7900</td>\n",
       "      <td>JAMES</td>\n",
       "      <td>CLERK</td>\n",
       "      <td>7698</td>\n",
       "      <td>3-DEC-81</td>\n",
       "      <td>950</td>\n",
       "      <td>NULL</td>\n",
       "      <td>30</td>\n",
       "    </tr>\n",
       "    <tr>\n",
       "      <th>12</th>\n",
       "      <td>7902</td>\n",
       "      <td>FORD</td>\n",
       "      <td>ANALYST</td>\n",
       "      <td>7566</td>\n",
       "      <td>3-DEC-81</td>\n",
       "      <td>3000</td>\n",
       "      <td>NULL</td>\n",
       "      <td>20</td>\n",
       "    </tr>\n",
       "    <tr>\n",
       "      <th>13</th>\n",
       "      <td>7934</td>\n",
       "      <td>MILLER</td>\n",
       "      <td>CLERK</td>\n",
       "      <td>7782</td>\n",
       "      <td>23-JAN-82</td>\n",
       "      <td>1300</td>\n",
       "      <td>NULL</td>\n",
       "      <td>10</td>\n",
       "    </tr>\n",
       "  </tbody>\n",
       "</table>\n",
       "</div>"
      ],
      "text/plain": [
       "      no      name designation managerid        doj    sal commission deptno\n",
       "0   7369     SMITH       CLERK      7902  17-DEC-80    800       NULL     20\n",
       "1   7499     ALLEN    SALESMAN      7698  20-FEB-81   1600        300     30\n",
       "2   7521      WARD    SALESMAN      7698  22-FEB-81   1250        500     30\n",
       "3   7566     JONES     MANAGER      7839   2-APR-81   2975       NULL     20\n",
       "4   7654    MARTIN    SALESMAN      7698  28-SEP-81   1250       1400     30\n",
       "5   7698     BLAKE     MANAGER      7839   1-MAY-81   2850       NULL     30\n",
       "6   7782     CLARK     MANAGER      7839   9-JUN-81   2450       NULL     10\n",
       "7   7788     SCOTT     ANALYST      7566  09-DEC-82   3000       NULL     20\n",
       "8   7839  KING-WEB   PRESIDENT      NULL  17-NOV-81  15000       NULL     10\n",
       "9   7844    TURNER    SALESMAN      7698   8-SEP-81   1500          0     30\n",
       "10  7876     ADAMS       CLERK      7788  12-JAN-83   1100       NULL     20\n",
       "11  7900     JAMES       CLERK      7698   3-DEC-81    950       NULL     30\n",
       "12  7902      FORD     ANALYST      7566   3-DEC-81   3000       NULL     20\n",
       "13  7934    MILLER       CLERK      7782  23-JAN-82   1300       NULL     10"
      ]
     },
     "execution_count": 16,
     "metadata": {},
     "output_type": "execute_result"
    }
   ],
   "source": [
    "data"
   ]
  },
  {
   "cell_type": "code",
   "execution_count": 17,
   "metadata": {},
   "outputs": [
    {
     "data": {
      "text/plain": [
       "[['7369', 'SMITH', 'CLERK', '7902', '17-DEC-80', '800', 'NULL', '20'],\n",
       " ['7566', 'JONES', 'MANAGER', '7839', '2-APR-81', '2975', 'NULL', '20'],\n",
       " ['7698', 'BLAKE', 'MANAGER', '7839', '1-MAY-81', '2850', 'NULL', '30'],\n",
       " ['7782', 'CLARK', 'MANAGER', '7839', '9-JUN-81', '2450', 'NULL', '10'],\n",
       " ['7788', 'SCOTT', 'ANALYST', '7566', '09-DEC-82', '3000', 'NULL', '20'],\n",
       " ['7839', 'KING-WEB', 'PRESIDENT', 'NULL', '17-NOV-81', '15000', 'NULL', '10'],\n",
       " ['7876', 'ADAMS', 'CLERK', '7788', '12-JAN-83', '1100', 'NULL', '20'],\n",
       " ['7900', 'JAMES', 'CLERK', '7698', '3-DEC-81', '950', 'NULL', '30'],\n",
       " ['7902', 'FORD', 'ANALYST', '7566', '3-DEC-81', '3000', 'NULL', '20'],\n",
       " ['7934', 'MILLER', 'CLERK', '7782', '23-JAN-82', '1300', 'NULL', '10']]"
      ]
     },
     "execution_count": 17,
     "metadata": {},
     "output_type": "execute_result"
    }
   ],
   "source": [
    "li = [[data[j][i] for j in data] for i, com in enumerate(data['commission']) if com == 'NULL']\n",
    "li"
   ]
  },
  {
   "cell_type": "code",
   "execution_count": 18,
   "metadata": {},
   "outputs": [
    {
     "data": {
      "text/plain": [
       "[['7369', 'SMITH', 'CLERK', '7902', '17-DEC-80', '800', 'NULL', '20'],\n",
       " ['7566', 'JONES', 'MANAGER', '7839', '2-APR-81', '2975', 'NULL', '20'],\n",
       " ['7782', 'CLARK', 'MANAGER', '7839', '9-JUN-81', '2450', 'NULL', '10'],\n",
       " ['7788', 'SCOTT', 'ANALYST', '7566', '09-DEC-82', '3000', 'NULL', '20'],\n",
       " ['7839', 'KING-WEB', 'PRESIDENT', 'NULL', '17-NOV-81', '15000', 'NULL', '10'],\n",
       " ['7876', 'ADAMS', 'CLERK', '7788', '12-JAN-83', '1100', 'NULL', '20'],\n",
       " ['7902', 'FORD', 'ANALYST', '7566', '3-DEC-81', '3000', 'NULL', '20'],\n",
       " ['7934', 'MILLER', 'CLERK', '7782', '23-JAN-82', '1300', 'NULL', '10']]"
      ]
     },
     "execution_count": 18,
     "metadata": {},
     "output_type": "execute_result"
    }
   ],
   "source": [
    "li2 = [[data[j][i] for j in data] for i, dno in enumerate(data['deptno']) if (dno == '10') or (dno == '20')]\n",
    "li2"
   ]
  },
  {
   "cell_type": "markdown",
   "metadata": {},
   "source": [
    "$$\n",
    "\\sigma = \\sqrt{\\frac{\\Sigma(X - \\mu)^2}{n}}\n",
    "$$\n",
    "\n",
    "where,  \n",
    "$\\sigma$ = population of standard deviation  \n",
    "$\\Sigma$ = sum of...  \n",
    "$\\mu$ = population mean  \n",
    "n = number of scores in sample"
   ]
  },
  {
   "cell_type": "code",
   "execution_count": 19,
   "metadata": {},
   "outputs": [
    {
     "data": {
      "text/html": [
       "<img src=\"https://restcountries.eu/data/ind.svg\"/>"
      ],
      "text/plain": [
       "<IPython.core.display.Image object>"
      ]
     },
     "execution_count": 19,
     "metadata": {},
     "output_type": "execute_result"
    }
   ],
   "source": [
    "from urllib import request\n",
    "import json\n",
    "from IPython.display import Image\n",
    "\n",
    "url = \"https://restcountries.eu/rest/v2/all\"\n",
    "resp = request.urlopen(url)\n",
    "script = json.load(resp)\n",
    "\n",
    "Indian_flag = [i['flag'] for i in script if i['name'] == 'India'][0]\n",
    "Image(url=Indian_flag)"
   ]
  },
  {
   "cell_type": "code",
   "execution_count": 20,
   "metadata": {},
   "outputs": [
    {
     "data": {
      "text/plain": [
       "'https://restcountries.eu/data/ind.svg'"
      ]
     },
     "execution_count": 20,
     "metadata": {},
     "output_type": "execute_result"
    }
   ],
   "source": [
    "Indian_flag"
   ]
  },
  {
   "cell_type": "code",
   "execution_count": null,
   "metadata": {},
   "outputs": [],
   "source": []
  }
 ],
 "metadata": {
  "kernelspec": {
   "display_name": "Python 3.8.2 64-bit",
   "language": "python",
   "name": "python38264bit59e8aac788024cfaa91784a09d4cf6dc"
  },
  "language_info": {
   "codemirror_mode": {
    "name": "ipython",
    "version": 3
   },
   "file_extension": ".py",
   "mimetype": "text/x-python",
   "name": "python",
   "nbconvert_exporter": "python",
   "pygments_lexer": "ipython3",
   "version": "3.8.5"
  }
 },
 "nbformat": 4,
 "nbformat_minor": 4
}
