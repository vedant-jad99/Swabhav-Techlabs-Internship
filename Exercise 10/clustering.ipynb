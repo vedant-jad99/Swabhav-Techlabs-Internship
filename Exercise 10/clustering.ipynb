{
 "cells": [
  {
   "cell_type": "code",
   "execution_count": 1,
   "metadata": {},
   "outputs": [],
   "source": [
    "import pandas as pd\n",
    "import matplotlib.pyplot as plt\n",
    "import seaborn as sns\n",
    "import numpy as np"
   ]
  },
  {
   "cell_type": "code",
   "execution_count": 7,
   "metadata": {},
   "outputs": [],
   "source": [
    "from sklearn.model_selection import GridSearchCV\n",
    "from sklearn.tree import DecisionTreeRegressor\n",
    "from sklearn.model_selection import train_test_split\n",
    "from sklearn.preprocessing import scale"
   ]
  },
  {
   "cell_type": "code",
   "execution_count": 9,
   "metadata": {},
   "outputs": [],
   "source": [
    "def loadDataFrame():\n",
    "    df=pd.read_csv('customers.csv')\n",
    "    \n",
    "    df=df[['Age','Income']]\n",
    "    df['Age']=scale(df['Age'])\n",
    "    df['Income']=scale(df['Income'])\n",
    "    \n",
    "    return df"
   ]
  },
  {
   "cell_type": "code",
   "execution_count": 10,
   "metadata": {},
   "outputs": [],
   "source": [
    "df=loadDataFrame()"
   ]
  },
  {
   "cell_type": "code",
   "execution_count": 11,
   "metadata": {},
   "outputs": [
    {
     "data": {
      "text/html": [
       "<div>\n",
       "<style scoped>\n",
       "    .dataframe tbody tr th:only-of-type {\n",
       "        vertical-align: middle;\n",
       "    }\n",
       "\n",
       "    .dataframe tbody tr th {\n",
       "        vertical-align: top;\n",
       "    }\n",
       "\n",
       "    .dataframe thead th {\n",
       "        text-align: right;\n",
       "    }\n",
       "</style>\n",
       "<table border=\"1\" class=\"dataframe\">\n",
       "  <thead>\n",
       "    <tr style=\"text-align: right;\">\n",
       "      <th></th>\n",
       "      <th>Age</th>\n",
       "      <th>Income</th>\n",
       "    </tr>\n",
       "  </thead>\n",
       "  <tbody>\n",
       "    <tr>\n",
       "      <th>0</th>\n",
       "      <td>0.742915</td>\n",
       "      <td>-0.718459</td>\n",
       "    </tr>\n",
       "    <tr>\n",
       "      <th>1</th>\n",
       "      <td>1.489490</td>\n",
       "      <td>1.384325</td>\n",
       "    </tr>\n",
       "    <tr>\n",
       "      <th>2</th>\n",
       "      <td>-0.252518</td>\n",
       "      <td>0.268032</td>\n",
       "    </tr>\n",
       "    <tr>\n",
       "      <th>3</th>\n",
       "      <td>-0.750235</td>\n",
       "      <td>-0.718459</td>\n",
       "    </tr>\n",
       "    <tr>\n",
       "      <th>4</th>\n",
       "      <td>1.489490</td>\n",
       "      <td>5.356249</td>\n",
       "    </tr>\n",
       "    <tr>\n",
       "      <th>...</th>\n",
       "      <td>...</td>\n",
       "      <td>...</td>\n",
       "    </tr>\n",
       "    <tr>\n",
       "      <th>845</th>\n",
       "      <td>-0.999093</td>\n",
       "      <td>-0.536737</td>\n",
       "    </tr>\n",
       "    <tr>\n",
       "      <th>846</th>\n",
       "      <td>-0.874664</td>\n",
       "      <td>-0.329054</td>\n",
       "    </tr>\n",
       "    <tr>\n",
       "      <th>847</th>\n",
       "      <td>-1.247951</td>\n",
       "      <td>-0.744419</td>\n",
       "    </tr>\n",
       "    <tr>\n",
       "      <th>848</th>\n",
       "      <td>-0.376947</td>\n",
       "      <td>-0.484816</td>\n",
       "    </tr>\n",
       "    <tr>\n",
       "      <th>849</th>\n",
       "      <td>2.111636</td>\n",
       "      <td>0.449754</td>\n",
       "    </tr>\n",
       "  </tbody>\n",
       "</table>\n",
       "<p>850 rows × 2 columns</p>\n",
       "</div>"
      ],
      "text/plain": [
       "          Age    Income\n",
       "0    0.742915 -0.718459\n",
       "1    1.489490  1.384325\n",
       "2   -0.252518  0.268032\n",
       "3   -0.750235 -0.718459\n",
       "4    1.489490  5.356249\n",
       "..        ...       ...\n",
       "845 -0.999093 -0.536737\n",
       "846 -0.874664 -0.329054\n",
       "847 -1.247951 -0.744419\n",
       "848 -0.376947 -0.484816\n",
       "849  2.111636  0.449754\n",
       "\n",
       "[850 rows x 2 columns]"
      ]
     },
     "execution_count": 11,
     "metadata": {},
     "output_type": "execute_result"
    }
   ],
   "source": [
    "df"
   ]
  },
  {
   "cell_type": "code",
   "execution_count": 12,
   "metadata": {},
   "outputs": [],
   "source": [
    "from sklearn.cluster import KMeans"
   ]
  },
  {
   "cell_type": "code",
   "execution_count": 13,
   "metadata": {},
   "outputs": [
    {
     "data": {
      "text/plain": [
       "KMeans(algorithm='auto', copy_x=True, init='k-means++', max_iter=300,\n",
       "       n_clusters=3, n_init=10, n_jobs=None, precompute_distances='auto',\n",
       "       random_state=None, tol=0.0001, verbose=0)"
      ]
     },
     "execution_count": 13,
     "metadata": {},
     "output_type": "execute_result"
    }
   ],
   "source": [
    "model=KMeans(n_clusters=3)\n",
    "model.fit(df)"
   ]
  },
  {
   "cell_type": "code",
   "execution_count": 14,
   "metadata": {},
   "outputs": [
    {
     "data": {
      "text/plain": [
       "array([2, 2, 0, 0, 1, 2, 2, 2, 0, 1, 2, 0, 0, 2, 0, 0, 0, 2, 2, 0, 0, 2,\n",
       "       0, 2, 1, 2, 0, 2, 2, 0, 2, 2, 0, 2, 0, 0, 0, 0, 0, 1, 0, 1, 0, 1,\n",
       "       2, 2, 0, 0, 0, 0, 2, 0, 0, 2, 0, 0, 0, 0, 2, 2, 2, 0, 2, 2, 0, 0,\n",
       "       2, 0, 2, 0, 0, 2, 0, 0, 0, 0, 2, 0, 1, 2, 0, 0, 1, 2, 2, 0, 0, 0,\n",
       "       0, 0, 2, 0, 0, 0, 0, 2, 2, 2, 0, 0, 0, 1, 2, 2, 0, 2, 2, 0, 0, 2,\n",
       "       2, 0, 0, 0, 0, 2, 0, 0, 0, 0, 0, 0, 0, 2, 0, 2, 0, 0, 0, 0, 0, 2,\n",
       "       0, 0, 0, 0, 2, 0, 2, 2, 2, 0, 0, 0, 2, 0, 2, 2, 0, 0, 0, 2, 2, 2,\n",
       "       2, 0, 1, 2, 0, 0, 0, 2, 2, 0, 0, 0, 0, 0, 0, 2, 2, 0, 0, 0, 0, 2,\n",
       "       2, 0, 0, 2, 2, 0, 0, 1, 2, 0, 2, 2, 2, 2, 0, 2, 2, 2, 2, 0, 0, 2,\n",
       "       1, 2, 1, 2, 0, 2, 2, 2, 0, 1, 2, 0, 0, 0, 2, 2, 2, 0, 2, 0, 2, 2,\n",
       "       0, 1, 0, 0, 0, 0, 2, 0, 2, 2, 2, 0, 0, 0, 2, 0, 2, 0, 0, 0, 0, 2,\n",
       "       0, 0, 2, 1, 2, 2, 0, 0, 0, 0, 2, 0, 2, 0, 2, 0, 0, 0, 2, 0, 0, 0,\n",
       "       2, 2, 0, 2, 2, 2, 0, 0, 0, 2, 2, 0, 0, 2, 0, 0, 0, 1, 1, 0, 2, 0,\n",
       "       2, 0, 2, 2, 0, 2, 0, 0, 0, 0, 0, 0, 0, 2, 2, 2, 0, 0, 0, 2, 2, 0,\n",
       "       0, 2, 0, 0, 2, 0, 2, 0, 0, 0, 2, 2, 2, 2, 2, 0, 0, 0, 0, 0, 2, 2,\n",
       "       0, 1, 0, 2, 2, 2, 0, 2, 0, 2, 2, 2, 0, 2, 2, 2, 0, 0, 0, 0, 1, 0,\n",
       "       0, 0, 0, 2, 2, 0, 0, 0, 1, 0, 0, 0, 2, 0, 2, 1, 1, 2, 0, 0, 2, 2,\n",
       "       0, 0, 0, 0, 0, 0, 2, 0, 0, 2, 1, 0, 2, 0, 0, 2, 2, 0, 2, 0, 0, 0,\n",
       "       0, 1, 2, 0, 0, 0, 0, 0, 0, 2, 2, 2, 0, 2, 0, 2, 0, 2, 0, 2, 2, 2,\n",
       "       2, 0, 0, 2, 0, 0, 2, 2, 2, 2, 0, 0, 2, 2, 0, 0, 2, 0, 0, 0, 2, 2,\n",
       "       2, 2, 0, 1, 2, 0, 2, 2, 2, 0, 2, 0, 0, 0, 1, 0, 0, 0, 0, 2, 2, 1,\n",
       "       0, 2, 0, 2, 2, 0, 0, 2, 2, 2, 2, 2, 2, 0, 2, 0, 0, 0, 0, 2, 2, 0,\n",
       "       2, 0, 0, 2, 0, 0, 0, 2, 2, 2, 2, 0, 0, 0, 2, 0, 0, 0, 2, 1, 0, 0,\n",
       "       2, 0, 2, 0, 0, 0, 0, 1, 2, 2, 0, 0, 0, 2, 2, 0, 0, 0, 2, 0, 0, 2,\n",
       "       0, 0, 0, 0, 1, 2, 0, 0, 0, 0, 2, 2, 1, 2, 0, 2, 2, 2, 2, 2, 2, 0,\n",
       "       2, 1, 0, 1, 0, 2, 1, 2, 0, 0, 2, 2, 0, 2, 0, 0, 2, 0, 2, 0, 0, 1,\n",
       "       2, 0, 0, 0, 0, 0, 0, 2, 2, 0, 2, 2, 2, 0, 0, 2, 0, 2, 0, 2, 2, 2,\n",
       "       0, 0, 0, 0, 2, 2, 0, 0, 0, 0, 0, 2, 2, 0, 0, 0, 0, 0, 0, 0, 0, 0,\n",
       "       2, 0, 0, 0, 2, 0, 0, 2, 0, 2, 0, 0, 2, 1, 2, 0, 2, 2, 1, 0, 0, 2,\n",
       "       0, 2, 0, 0, 1, 0, 2, 2, 1, 0, 2, 0, 0, 0, 1, 2, 0, 0, 0, 2, 2, 0,\n",
       "       0, 0, 2, 1, 0, 0, 2, 0, 0, 0, 2, 2, 1, 0, 0, 1, 0, 2, 0, 0, 2, 0,\n",
       "       0, 2, 0, 2, 0, 2, 2, 0, 0, 2, 2, 2, 0, 0, 0, 2, 0, 0, 0, 0, 0, 0,\n",
       "       0, 0, 0, 2, 2, 2, 2, 0, 0, 1, 2, 0, 0, 1, 2, 2, 0, 0, 2, 0, 0, 1,\n",
       "       0, 2, 0, 0, 2, 2, 0, 2, 1, 2, 2, 0, 0, 0, 2, 2, 0, 0, 0, 2, 1, 0,\n",
       "       0, 0, 2, 0, 0, 0, 0, 2, 0, 0, 2, 0, 2, 0, 0, 2, 0, 0, 2, 2, 2, 2,\n",
       "       0, 0, 0, 2, 2, 2, 2, 0, 2, 2, 0, 2, 0, 2, 2, 0, 2, 0, 0, 2, 2, 1,\n",
       "       2, 0, 0, 2, 0, 0, 0, 0, 0, 2, 0, 0, 0, 2, 0, 0, 2, 0, 0, 0, 0, 0,\n",
       "       0, 2, 0, 0, 0, 2, 2, 0, 2, 0, 2, 1, 2, 2, 2, 0, 0, 0, 2, 0, 0, 0,\n",
       "       0, 0, 0, 0, 2, 0, 0, 0, 2, 0, 0, 0, 0, 2], dtype=int32)"
      ]
     },
     "execution_count": 14,
     "metadata": {},
     "output_type": "execute_result"
    }
   ],
   "source": [
    "model.labels_"
   ]
  },
  {
   "cell_type": "code",
   "execution_count": 17,
   "metadata": {},
   "outputs": [],
   "source": [
    "df['cluster']=model.labels_"
   ]
  },
  {
   "cell_type": "code",
   "execution_count": 18,
   "metadata": {},
   "outputs": [
    {
     "data": {
      "text/html": [
       "<div>\n",
       "<style scoped>\n",
       "    .dataframe tbody tr th:only-of-type {\n",
       "        vertical-align: middle;\n",
       "    }\n",
       "\n",
       "    .dataframe tbody tr th {\n",
       "        vertical-align: top;\n",
       "    }\n",
       "\n",
       "    .dataframe thead th {\n",
       "        text-align: right;\n",
       "    }\n",
       "</style>\n",
       "<table border=\"1\" class=\"dataframe\">\n",
       "  <thead>\n",
       "    <tr style=\"text-align: right;\">\n",
       "      <th></th>\n",
       "      <th>Age</th>\n",
       "      <th>Income</th>\n",
       "      <th>cluster</th>\n",
       "    </tr>\n",
       "  </thead>\n",
       "  <tbody>\n",
       "    <tr>\n",
       "      <th>0</th>\n",
       "      <td>0.742915</td>\n",
       "      <td>-0.718459</td>\n",
       "      <td>2</td>\n",
       "    </tr>\n",
       "    <tr>\n",
       "      <th>1</th>\n",
       "      <td>1.489490</td>\n",
       "      <td>1.384325</td>\n",
       "      <td>2</td>\n",
       "    </tr>\n",
       "    <tr>\n",
       "      <th>2</th>\n",
       "      <td>-0.252518</td>\n",
       "      <td>0.268032</td>\n",
       "      <td>0</td>\n",
       "    </tr>\n",
       "    <tr>\n",
       "      <th>3</th>\n",
       "      <td>-0.750235</td>\n",
       "      <td>-0.718459</td>\n",
       "      <td>0</td>\n",
       "    </tr>\n",
       "    <tr>\n",
       "      <th>4</th>\n",
       "      <td>1.489490</td>\n",
       "      <td>5.356249</td>\n",
       "      <td>1</td>\n",
       "    </tr>\n",
       "    <tr>\n",
       "      <th>...</th>\n",
       "      <td>...</td>\n",
       "      <td>...</td>\n",
       "      <td>...</td>\n",
       "    </tr>\n",
       "    <tr>\n",
       "      <th>845</th>\n",
       "      <td>-0.999093</td>\n",
       "      <td>-0.536737</td>\n",
       "      <td>0</td>\n",
       "    </tr>\n",
       "    <tr>\n",
       "      <th>846</th>\n",
       "      <td>-0.874664</td>\n",
       "      <td>-0.329054</td>\n",
       "      <td>0</td>\n",
       "    </tr>\n",
       "    <tr>\n",
       "      <th>847</th>\n",
       "      <td>-1.247951</td>\n",
       "      <td>-0.744419</td>\n",
       "      <td>0</td>\n",
       "    </tr>\n",
       "    <tr>\n",
       "      <th>848</th>\n",
       "      <td>-0.376947</td>\n",
       "      <td>-0.484816</td>\n",
       "      <td>0</td>\n",
       "    </tr>\n",
       "    <tr>\n",
       "      <th>849</th>\n",
       "      <td>2.111636</td>\n",
       "      <td>0.449754</td>\n",
       "      <td>2</td>\n",
       "    </tr>\n",
       "  </tbody>\n",
       "</table>\n",
       "<p>850 rows × 3 columns</p>\n",
       "</div>"
      ],
      "text/plain": [
       "          Age    Income  cluster\n",
       "0    0.742915 -0.718459        2\n",
       "1    1.489490  1.384325        2\n",
       "2   -0.252518  0.268032        0\n",
       "3   -0.750235 -0.718459        0\n",
       "4    1.489490  5.356249        1\n",
       "..        ...       ...      ...\n",
       "845 -0.999093 -0.536737        0\n",
       "846 -0.874664 -0.329054        0\n",
       "847 -1.247951 -0.744419        0\n",
       "848 -0.376947 -0.484816        0\n",
       "849  2.111636  0.449754        2\n",
       "\n",
       "[850 rows x 3 columns]"
      ]
     },
     "execution_count": 18,
     "metadata": {},
     "output_type": "execute_result"
    }
   ],
   "source": [
    "df"
   ]
  },
  {
   "cell_type": "code",
   "execution_count": 19,
   "metadata": {},
   "outputs": [
    {
     "data": {
      "text/html": [
       "<div>\n",
       "<style scoped>\n",
       "    .dataframe tbody tr th:only-of-type {\n",
       "        vertical-align: middle;\n",
       "    }\n",
       "\n",
       "    .dataframe tbody tr th {\n",
       "        vertical-align: top;\n",
       "    }\n",
       "\n",
       "    .dataframe thead th {\n",
       "        text-align: right;\n",
       "    }\n",
       "</style>\n",
       "<table border=\"1\" class=\"dataframe\">\n",
       "  <thead>\n",
       "    <tr style=\"text-align: right;\">\n",
       "      <th></th>\n",
       "      <th>Age</th>\n",
       "      <th>Income</th>\n",
       "    </tr>\n",
       "    <tr>\n",
       "      <th>cluster</th>\n",
       "      <th></th>\n",
       "      <th></th>\n",
       "    </tr>\n",
       "  </thead>\n",
       "  <tbody>\n",
       "    <tr>\n",
       "      <th>0</th>\n",
       "      <td>-0.745990</td>\n",
       "      <td>-0.416566</td>\n",
       "    </tr>\n",
       "    <tr>\n",
       "      <th>1</th>\n",
       "      <td>1.225993</td>\n",
       "      <td>2.970447</td>\n",
       "    </tr>\n",
       "    <tr>\n",
       "      <th>2</th>\n",
       "      <td>0.870738</td>\n",
       "      <td>0.132960</td>\n",
       "    </tr>\n",
       "  </tbody>\n",
       "</table>\n",
       "</div>"
      ],
      "text/plain": [
       "              Age    Income\n",
       "cluster                    \n",
       "0       -0.745990 -0.416566\n",
       "1        1.225993  2.970447\n",
       "2        0.870738  0.132960"
      ]
     },
     "execution_count": 19,
     "metadata": {},
     "output_type": "execute_result"
    }
   ],
   "source": [
    "df.groupby('cluster').mean()"
   ]
  },
  {
   "cell_type": "code",
   "execution_count": 21,
   "metadata": {},
   "outputs": [
    {
     "data": {
      "text/plain": [
       "<matplotlib.collections.PathCollection at 0x7f9acfd36750>"
      ]
     },
     "execution_count": 21,
     "metadata": {},
     "output_type": "execute_result"
    },
    {
     "data": {
      "image/png": "[encoded data removed]",
      "text/plain": [
       "<Figure size 432x288 with 1 Axes>"
      ]
     },
     "metadata": {
      "needs_background": "light"
     },
     "output_type": "display_data"
    }
   ],
   "source": [
    "plt.scatter(df['Age'],df['Income'],c=model.labels_)"
   ]
  },
  {
   "cell_type": "markdown",
   "metadata": {},
   "source": [
    "## Agglomerative"
   ]
  },
  {
   "cell_type": "code",
   "execution_count": 22,
   "metadata": {},
   "outputs": [],
   "source": [
    "from sklearn.cluster import AgglomerativeClustering"
   ]
  },
  {
   "cell_type": "code",
   "execution_count": 23,
   "metadata": {},
   "outputs": [],
   "source": [
    "df=loadDataFrame()"
   ]
  },
  {
   "cell_type": "code",
   "execution_count": 25,
   "metadata": {},
   "outputs": [],
   "source": [
    "model=AgglomerativeClustering(n_clusters=4)"
   ]
  },
  {
   "cell_type": "code",
   "execution_count": 26,
   "metadata": {},
   "outputs": [
    {
     "data": {
      "text/plain": [
       "AgglomerativeClustering(affinity='euclidean', compute_full_tree='auto',\n",
       "                        connectivity=None, distance_threshold=None,\n",
       "                        linkage='ward', memory=None, n_clusters=4)"
      ]
     },
     "execution_count": 26,
     "metadata": {},
     "output_type": "execute_result"
    }
   ],
   "source": [
    "model.fit(df)"
   ]
  },
  {
   "cell_type": "code",
   "execution_count": 27,
   "metadata": {},
   "outputs": [
    {
     "data": {
      "text/plain": [
       "array([2, 0, 2, 3, 0, 1, 2, 1, 3, 0, 1, 2, 3, 1, 3, 3, 3, 2, 1, 2, 3, 2,\n",
       "       3, 1, 0, 1, 3, 2, 2, 2, 1, 2, 3, 2, 3, 2, 2, 2, 3, 0, 3, 0, 3, 0,\n",
       "       1, 1, 3, 3, 3, 2, 1, 2, 3, 1, 2, 2, 2, 3, 1, 1, 2, 2, 2, 1, 3, 2,\n",
       "       2, 3, 2, 3, 2, 1, 2, 3, 3, 2, 2, 2, 0, 1, 2, 2, 0, 2, 1, 3, 3, 3,\n",
       "       3, 3, 2, 2, 2, 3, 2, 1, 2, 2, 2, 3, 2, 0, 2, 1, 3, 1, 2, 3, 2, 1,\n",
       "       2, 3, 2, 3, 2, 2, 3, 2, 2, 2, 3, 3, 2, 2, 2, 1, 2, 3, 3, 3, 2, 2,\n",
       "       2, 2, 3, 2, 1, 3, 1, 2, 2, 3, 3, 3, 2, 3, 2, 1, 3, 3, 2, 1, 2, 1,\n",
       "       2, 2, 0, 1, 3, 2, 3, 2, 2, 2, 3, 2, 2, 2, 3, 1, 1, 2, 2, 3, 2, 1,\n",
       "       2, 3, 3, 1, 2, 2, 3, 0, 2, 3, 1, 2, 2, 1, 2, 1, 2, 2, 1, 2, 3, 1,\n",
       "       0, 2, 0, 2, 3, 2, 1, 1, 2, 0, 1, 3, 2, 2, 2, 1, 2, 3, 1, 3, 2, 1,\n",
       "       3, 0, 2, 3, 2, 2, 1, 3, 2, 1, 2, 2, 3, 3, 1, 3, 2, 3, 2, 3, 2, 2,\n",
       "       3, 3, 2, 0, 1, 2, 2, 3, 3, 3, 2, 2, 1, 3, 2, 3, 3, 3, 2, 2, 2, 3,\n",
       "       1, 1, 2, 2, 2, 2, 2, 3, 2, 2, 2, 3, 3, 2, 3, 3, 3, 0, 0, 3, 0, 2,\n",
       "       2, 3, 1, 2, 2, 2, 2, 2, 3, 3, 3, 3, 3, 1, 1, 2, 3, 2, 2, 2, 2, 2,\n",
       "       2, 2, 2, 3, 1, 3, 2, 3, 2, 2, 2, 2, 1, 2, 1, 3, 3, 2, 3, 3, 2, 2,\n",
       "       2, 0, 3, 1, 2, 1, 3, 1, 2, 1, 2, 2, 2, 1, 1, 2, 3, 2, 3, 2, 0, 3,\n",
       "       2, 2, 3, 1, 1, 2, 2, 3, 0, 2, 3, 3, 1, 3, 1, 0, 0, 2, 3, 3, 1, 1,\n",
       "       2, 2, 3, 2, 2, 3, 2, 3, 3, 1, 0, 2, 1, 3, 2, 2, 2, 2, 2, 2, 3, 2,\n",
       "       3, 0, 2, 2, 3, 3, 3, 3, 2, 1, 1, 1, 2, 1, 3, 2, 3, 2, 3, 1, 2, 2,\n",
       "       2, 2, 2, 2, 3, 2, 1, 1, 2, 1, 2, 3, 2, 2, 2, 3, 1, 2, 2, 2, 1, 2,\n",
       "       2, 2, 2, 0, 2, 3, 2, 2, 1, 2, 1, 2, 3, 2, 0, 2, 3, 2, 3, 1, 1, 0,\n",
       "       3, 2, 3, 1, 2, 2, 2, 1, 1, 2, 2, 1, 1, 3, 2, 2, 3, 3, 3, 2, 2, 3,\n",
       "       2, 2, 2, 1, 3, 3, 3, 1, 2, 1, 2, 3, 3, 2, 2, 3, 3, 3, 2, 0, 2, 3,\n",
       "       2, 2, 1, 3, 2, 3, 2, 0, 2, 1, 3, 3, 3, 1, 1, 3, 2, 3, 1, 2, 2, 2,\n",
       "       3, 2, 3, 2, 0, 1, 2, 2, 3, 2, 2, 2, 0, 2, 3, 1, 2, 1, 2, 2, 0, 3,\n",
       "       1, 0, 2, 0, 3, 1, 0, 1, 3, 3, 1, 2, 3, 2, 3, 2, 1, 3, 1, 3, 2, 0,\n",
       "       2, 3, 2, 3, 3, 3, 3, 1, 2, 3, 2, 2, 2, 2, 2, 2, 2, 2, 3, 1, 1, 2,\n",
       "       3, 3, 3, 3, 1, 1, 2, 2, 3, 2, 3, 2, 2, 2, 3, 3, 2, 2, 2, 3, 2, 2,\n",
       "       2, 3, 3, 2, 1, 2, 2, 2, 3, 2, 3, 3, 1, 0, 1, 2, 1, 1, 0, 3, 2, 1,\n",
       "       2, 1, 2, 3, 0, 3, 1, 2, 0, 3, 2, 3, 3, 3, 0, 1, 3, 3, 2, 2, 1, 3,\n",
       "       3, 2, 2, 0, 2, 2, 2, 2, 3, 2, 1, 1, 0, 3, 3, 0, 3, 2, 3, 2, 2, 3,\n",
       "       3, 1, 3, 2, 3, 1, 1, 2, 3, 2, 2, 1, 3, 3, 2, 2, 3, 3, 2, 2, 3, 3,\n",
       "       3, 2, 2, 2, 1, 1, 2, 2, 2, 0, 2, 3, 2, 0, 2, 1, 3, 2, 2, 2, 3, 0,\n",
       "       2, 2, 2, 2, 1, 2, 3, 2, 0, 2, 1, 2, 2, 2, 2, 1, 3, 2, 2, 1, 0, 2,\n",
       "       3, 3, 2, 3, 3, 3, 3, 1, 3, 3, 1, 3, 1, 2, 3, 1, 3, 2, 2, 2, 2, 1,\n",
       "       3, 3, 3, 2, 2, 1, 2, 2, 1, 1, 3, 2, 2, 2, 1, 3, 2, 2, 2, 2, 2, 0,\n",
       "       2, 2, 3, 2, 3, 3, 3, 3, 3, 0, 3, 2, 2, 2, 2, 3, 1, 3, 2, 3, 2, 2,\n",
       "       2, 2, 2, 2, 2, 2, 2, 2, 1, 3, 2, 2, 1, 1, 1, 2, 2, 3, 2, 2, 3, 3,\n",
       "       3, 3, 3, 2, 2, 2, 2, 2, 2, 3, 3, 3, 2, 1])"
      ]
     },
     "execution_count": 27,
     "metadata": {},
     "output_type": "execute_result"
    }
   ],
   "source": [
    "model.labels_"
   ]
  },
  {
   "cell_type": "code",
   "execution_count": 28,
   "metadata": {},
   "outputs": [],
   "source": [
    "df['cluster']=model.labels_"
   ]
  },
  {
   "cell_type": "code",
   "execution_count": 29,
   "metadata": {},
   "outputs": [
    {
     "data": {
      "text/html": [
       "<div>\n",
       "<style scoped>\n",
       "    .dataframe tbody tr th:only-of-type {\n",
       "        vertical-align: middle;\n",
       "    }\n",
       "\n",
       "    .dataframe tbody tr th {\n",
       "        vertical-align: top;\n",
       "    }\n",
       "\n",
       "    .dataframe thead th {\n",
       "        text-align: right;\n",
       "    }\n",
       "</style>\n",
       "<table border=\"1\" class=\"dataframe\">\n",
       "  <thead>\n",
       "    <tr style=\"text-align: right;\">\n",
       "      <th></th>\n",
       "      <th>Age</th>\n",
       "      <th>Income</th>\n",
       "    </tr>\n",
       "    <tr>\n",
       "      <th>cluster</th>\n",
       "      <th></th>\n",
       "      <th></th>\n",
       "    </tr>\n",
       "  </thead>\n",
       "  <tbody>\n",
       "    <tr>\n",
       "      <th>0</th>\n",
       "      <td>1.277500</td>\n",
       "      <td>2.874637</td>\n",
       "    </tr>\n",
       "    <tr>\n",
       "      <th>1</th>\n",
       "      <td>1.353448</td>\n",
       "      <td>0.336567</td>\n",
       "    </tr>\n",
       "    <tr>\n",
       "      <th>2</th>\n",
       "      <td>0.046305</td>\n",
       "      <td>-0.167374</td>\n",
       "    </tr>\n",
       "    <tr>\n",
       "      <th>3</th>\n",
       "      <td>-1.114908</td>\n",
       "      <td>-0.542727</td>\n",
       "    </tr>\n",
       "  </tbody>\n",
       "</table>\n",
       "</div>"
      ],
      "text/plain": [
       "              Age    Income\n",
       "cluster                    \n",
       "0        1.277500  2.874637\n",
       "1        1.353448  0.336567\n",
       "2        0.046305 -0.167374\n",
       "3       -1.114908 -0.542727"
      ]
     },
     "execution_count": 29,
     "metadata": {},
     "output_type": "execute_result"
    }
   ],
   "source": [
    "df.groupby('cluster').mean()"
   ]
  },
  {
   "cell_type": "code",
   "execution_count": 30,
   "metadata": {},
   "outputs": [
    {
     "data": {
      "text/plain": [
       "<matplotlib.collections.PathCollection at 0x7f9ad3e01210>"
      ]
     },
     "execution_count": 30,
     "metadata": {},
     "output_type": "execute_result"
    },
    {
     "data": {
      "image/png": "[encoded data removed]",
      "text/plain": [
       "<Figure size 432x288 with 1 Axes>"
      ]
     },
     "metadata": {
      "needs_background": "light"
     },
     "output_type": "display_data"
    }
   ],
   "source": [
    "plt.scatter(df['Age'],df['Income'],c=model.labels_)"
   ]
  },
  {
   "cell_type": "code",
   "execution_count": 31,
   "metadata": {},
   "outputs": [
    {
     "data": {
      "text/plain": [
       "2    386\n",
       "3    260\n",
       "1    150\n",
       "0     54\n",
       "dtype: int64"
      ]
     },
     "execution_count": 31,
     "metadata": {},
     "output_type": "execute_result"
    }
   ],
   "source": [
    "pd.Series(model.labels_).value_counts()"
   ]
  },
  {
   "cell_type": "markdown",
   "metadata": {},
   "source": [
    "## DBSCAN"
   ]
  },
  {
   "cell_type": "code",
   "execution_count": 32,
   "metadata": {},
   "outputs": [],
   "source": [
    "from sklearn.cluster import DBSCAN"
   ]
  },
  {
   "cell_type": "code",
   "execution_count": 33,
   "metadata": {},
   "outputs": [],
   "source": [
    "df=loadDataFrame()"
   ]
  },
  {
   "cell_type": "code",
   "execution_count": 34,
   "metadata": {},
   "outputs": [],
   "source": [
    "model=DBSCAN(eps=.5,min_samples=7)"
   ]
  },
  {
   "cell_type": "code",
   "execution_count": 35,
   "metadata": {},
   "outputs": [
    {
     "data": {
      "text/plain": [
       "DBSCAN(algorithm='auto', eps=0.5, leaf_size=30, metric='euclidean',\n",
       "       metric_params=None, min_samples=7, n_jobs=None, p=None)"
      ]
     },
     "execution_count": 35,
     "metadata": {},
     "output_type": "execute_result"
    }
   ],
   "source": [
    "model.fit(df)"
   ]
  },
  {
   "cell_type": "code",
   "execution_count": 36,
   "metadata": {},
   "outputs": [
    {
     "data": {
      "text/plain": [
       "array([ 0,  0,  0,  0, -1,  0,  0,  0,  0,  0,  0,  0,  0,  0,  0,  0,  0,\n",
       "        0,  0,  0,  0,  0,  0,  0,  0,  0,  0,  0,  0,  0,  0,  0,  0,  0,\n",
       "        0,  0,  0,  0,  0,  0,  0,  0,  0, -1,  0,  0,  0,  0,  0,  0,  0,\n",
       "        0,  0,  0,  0,  0,  0,  0,  0,  0,  0,  0,  0,  0,  0,  0,  0,  0,\n",
       "        0,  0,  0,  0,  0,  0,  0,  0,  0,  0,  0,  0,  0,  0,  0,  0,  0,\n",
       "        0,  0,  0,  0,  0,  0,  0,  0,  0,  0,  0,  0,  0,  0,  0,  0,  0,\n",
       "        0,  0,  0,  0,  0,  0,  0,  0,  0,  0,  0,  0,  0,  0,  0,  0,  0,\n",
       "        0,  0,  0,  0,  0,  0,  0,  0,  0,  0,  0,  0,  0,  0,  0,  0,  0,\n",
       "        0,  0,  0,  0,  0,  0,  0,  0,  0,  0,  0,  0,  0,  0,  0,  0,  0,\n",
       "        0,  0,  0,  0,  0,  0,  0,  0,  0,  0,  0,  0,  0,  0,  0,  0,  0,\n",
       "        0,  0,  0,  0,  0,  0,  0,  0,  0,  0,  0,  0,  0,  0,  0,  0,  0,\n",
       "        0,  0,  0,  0,  0,  0,  0,  0,  0,  0,  0, -1,  0,  0,  0,  0,  0,\n",
       "        0,  0,  0, -1,  0,  0,  0,  0,  0,  0,  0,  0,  0,  0,  0,  0,  0,\n",
       "        0,  0,  0,  0,  0,  0,  0,  0,  0,  0,  0,  0,  0,  0,  0,  0,  0,\n",
       "        0,  0,  0,  0,  0,  0,  0, -1,  0,  0,  0,  0,  0,  0,  0,  0,  0,\n",
       "        0,  0,  0,  0,  0,  0,  0,  0,  0,  0,  0,  0,  0,  0,  0,  0,  0,\n",
       "        0,  0,  0,  0,  0,  0,  0,  0,  0, -1,  0,  0,  0,  0,  0,  0,  0,\n",
       "        0,  0,  0,  0,  0,  0,  0,  0,  0,  0,  0,  0,  0,  0,  0,  0,  0,\n",
       "        0,  0,  0,  0,  0,  0,  0,  0,  0,  0,  0,  0,  0,  0,  0,  0,  0,\n",
       "        0,  0,  0,  0,  0,  0,  0,  0,  0,  0,  0,  0,  0,  0,  0,  0,  0,\n",
       "        0,  0,  0,  0,  0,  0,  0,  0,  0,  0,  0,  0,  0,  0,  0,  0,  0,\n",
       "        0,  0,  0, -1,  0,  0,  0,  0,  0,  0,  0,  0,  0,  0,  0,  0,  0,\n",
       "        0,  0,  0,  0,  0,  0,  0,  0,  0,  0,  0,  0,  0,  0,  0,  0,  0,\n",
       "        0,  0,  0,  0,  0,  0,  0,  0,  0,  0,  0,  0,  0,  0,  0,  0,  0,\n",
       "        0,  0,  0,  0,  0,  0,  0,  0,  0,  0,  0,  0,  0,  0,  0,  0,  0,\n",
       "        0,  0,  0,  0,  0,  0,  0,  0,  0,  0,  0,  0,  0,  0,  0,  0,  0,\n",
       "        0, -1,  0,  0,  0,  0,  0,  0,  0,  0,  0,  0, -1,  0,  0,  0,  0,\n",
       "        0,  0, -1,  0,  0,  0,  0,  0,  0,  0,  0,  0,  0,  0,  0,  0,  0,\n",
       "        0,  0,  0,  0,  0,  0,  0,  0,  0,  0,  0,  0,  0,  0,  0,  0,  0,\n",
       "        0,  0,  0,  0,  0,  0,  0,  0,  0,  0,  0,  0,  0,  0,  0,  0,  0,\n",
       "        0,  0,  0, -1,  0,  0,  0,  0,  0,  0,  0,  0,  0,  0,  0,  0,  0,\n",
       "        0,  0,  0,  0,  0, -1,  0,  0,  0,  0,  0,  0,  0,  0,  0,  0,  0,\n",
       "        0,  0,  0,  0,  0,  0,  0, -1,  0, -1,  0,  0, -1,  0,  0,  0,  0,\n",
       "        0,  0,  0,  0,  0,  0,  0,  0,  0,  0, -1,  0,  0,  0,  0,  0,  0,\n",
       "        0,  0,  0,  0,  0,  0,  0,  0,  0,  0,  0,  0,  0,  0,  0,  0,  0,\n",
       "        0,  0,  0,  0,  0,  0,  0,  0,  0,  0,  0,  0,  0,  0,  0,  0,  0,\n",
       "        0,  0,  0,  0,  0,  0,  0,  0,  0,  0,  0,  0,  0,  0,  0,  0,  0,\n",
       "        0,  0,  0,  0,  0,  0,  0,  0,  0,  0,  0,  0,  0, -1,  0,  0,  0,\n",
       "        0,  0,  0,  0,  0,  0,  0,  0,  0,  0,  0,  0,  0,  0,  0,  0,  0,\n",
       "       -1,  0,  0,  0,  0,  0,  0,  0,  0, -1,  0,  0,  0,  0,  0,  0,  0,\n",
       "        0,  0,  0,  0,  0,  0,  0,  0,  0,  0,  0,  0,  0,  0,  0,  0,  0,\n",
       "        0,  0,  0,  0,  0,  0,  0,  0,  0,  0,  0,  0,  0,  0,  0,  0, -1,\n",
       "        0,  0,  0,  0,  0,  0,  0,  0,  0,  0,  0,  0,  0,  0,  0,  0,  0,\n",
       "        0,  0,  0, -1,  0,  0,  0,  0,  0,  0,  0,  0,  0,  0,  0,  0,  0,\n",
       "        0,  0,  0,  0,  0,  0,  0,  0,  0,  0,  0,  0,  0,  0,  0,  0,  0,\n",
       "        0,  0,  0,  0,  0,  0,  0,  0,  0,  0,  0,  0,  0,  0,  0,  0,  0,\n",
       "        0,  0,  0,  0,  0,  0,  0,  0,  0, -1,  0,  0,  0,  0,  0,  0,  0,\n",
       "        0,  0,  0,  0,  0,  0,  0,  0,  0,  0,  0,  0,  0,  0,  0,  0,  0,\n",
       "        0,  0,  0,  0,  0,  0,  0,  0,  0, -1,  0,  0,  0,  0,  0,  0,  0,\n",
       "        0,  0,  0,  0,  0,  0,  0,  0,  0,  0,  0,  0,  0,  0,  0,  0,  0])"
      ]
     },
     "execution_count": 36,
     "metadata": {},
     "output_type": "execute_result"
    }
   ],
   "source": [
    "model.labels_"
   ]
  },
  {
   "cell_type": "code",
   "execution_count": 37,
   "metadata": {},
   "outputs": [
    {
     "data": {
      "text/plain": [
       " 0    827\n",
       "-1     23\n",
       "dtype: int64"
      ]
     },
     "execution_count": 37,
     "metadata": {},
     "output_type": "execute_result"
    }
   ],
   "source": [
    "pd.Series(model.labels_).value_counts()"
   ]
  },
  {
   "cell_type": "code",
   "execution_count": 38,
   "metadata": {},
   "outputs": [
    {
     "data": {
      "text/plain": [
       "<matplotlib.collections.PathCollection at 0x7f9ac8e54b50>"
      ]
     },
     "execution_count": 38,
     "metadata": {},
     "output_type": "execute_result"
    },
    {
     "data": {
      "image/png": "[encoded data removed]",
      "text/plain": [
       "<Figure size 432x288 with 1 Axes>"
      ]
     },
     "metadata": {
      "needs_background": "light"
     },
     "output_type": "display_data"
    }
   ],
   "source": [
    "plt.scatter(df['Age'],df['Income'],c=model.labels_)"
   ]
  },
  {
   "cell_type": "code",
   "execution_count": null,
   "metadata": {},
   "outputs": [],
   "source": []
  }
 ],
 "metadata": {
  "kernelspec": {
   "display_name": "Python 3",
   "language": "python",
   "name": "python3"
  },
  "language_info": {
   "codemirror_mode": {
    "name": "ipython",
    "version": 3
   },
   "file_extension": ".py",
   "mimetype": "text/x-python",
   "name": "python",
   "nbconvert_exporter": "python",
   "pygments_lexer": "ipython3",
   "version": "3.7.6"
  }
 },
 "nbformat": 4,
 "nbformat_minor": 4
}
