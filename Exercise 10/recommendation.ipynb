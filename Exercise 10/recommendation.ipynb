{
 "cells": [
  {
   "cell_type": "code",
   "execution_count": 1,
   "metadata": {},
   "outputs": [],
   "source": [
    "import pandas as pd\n",
    "import matplotlib.pyplot as plt\n",
    "import seaborn as sns\n",
    "import numpy as np"
   ]
  },
  {
   "cell_type": "code",
   "execution_count": 3,
   "metadata": {},
   "outputs": [
    {
     "data": {
      "text/html": [
       "<div>\n",
       "<style scoped>\n",
       "    .dataframe tbody tr th:only-of-type {\n",
       "        vertical-align: middle;\n",
       "    }\n",
       "\n",
       "    .dataframe tbody tr th {\n",
       "        vertical-align: top;\n",
       "    }\n",
       "\n",
       "    .dataframe thead th {\n",
       "        text-align: right;\n",
       "    }\n",
       "</style>\n",
       "<table border=\"1\" class=\"dataframe\">\n",
       "  <thead>\n",
       "    <tr style=\"text-align: right;\">\n",
       "      <th></th>\n",
       "      <th>Unnamed: 0</th>\n",
       "      <th>Old Fashion</th>\n",
       "      <th>Manhattan</th>\n",
       "      <th>Negroni</th>\n",
       "      <th>Margarita</th>\n",
       "      <th>Martini</th>\n",
       "      <th>Whiskey Sour</th>\n",
       "      <th>Beer</th>\n",
       "      <th>Water</th>\n",
       "      <th>Soda Water</th>\n",
       "      <th>Screw Driver</th>\n",
       "    </tr>\n",
       "  </thead>\n",
       "  <tbody>\n",
       "    <tr>\n",
       "      <th>0</th>\n",
       "      <td>Finn</td>\n",
       "      <td>2</td>\n",
       "      <td>5</td>\n",
       "      <td>NaN</td>\n",
       "      <td>1</td>\n",
       "      <td>5</td>\n",
       "      <td>4.0</td>\n",
       "      <td>5.0</td>\n",
       "      <td>5.0</td>\n",
       "      <td>2.0</td>\n",
       "      <td>NaN</td>\n",
       "    </tr>\n",
       "    <tr>\n",
       "      <th>1</th>\n",
       "      <td>Marina</td>\n",
       "      <td>2</td>\n",
       "      <td>2</td>\n",
       "      <td>NaN</td>\n",
       "      <td>2</td>\n",
       "      <td>4</td>\n",
       "      <td>NaN</td>\n",
       "      <td>4.0</td>\n",
       "      <td>5.0</td>\n",
       "      <td>NaN</td>\n",
       "      <td>1.0</td>\n",
       "    </tr>\n",
       "    <tr>\n",
       "      <th>2</th>\n",
       "      <td>Aman</td>\n",
       "      <td>5</td>\n",
       "      <td>2</td>\n",
       "      <td>3.0</td>\n",
       "      <td>3</td>\n",
       "      <td>5</td>\n",
       "      <td>4.0</td>\n",
       "      <td>3.0</td>\n",
       "      <td>5.0</td>\n",
       "      <td>3.0</td>\n",
       "      <td>NaN</td>\n",
       "    </tr>\n",
       "    <tr>\n",
       "      <th>3</th>\n",
       "      <td>Anita</td>\n",
       "      <td>5</td>\n",
       "      <td>3</td>\n",
       "      <td>3.0</td>\n",
       "      <td>1</td>\n",
       "      <td>5</td>\n",
       "      <td>3.0</td>\n",
       "      <td>1.0</td>\n",
       "      <td>5.0</td>\n",
       "      <td>NaN</td>\n",
       "      <td>5.0</td>\n",
       "    </tr>\n",
       "    <tr>\n",
       "      <th>4</th>\n",
       "      <td>Jordan</td>\n",
       "      <td>4</td>\n",
       "      <td>3</td>\n",
       "      <td>NaN</td>\n",
       "      <td>4</td>\n",
       "      <td>4</td>\n",
       "      <td>4.0</td>\n",
       "      <td>4.0</td>\n",
       "      <td>4.0</td>\n",
       "      <td>1.0</td>\n",
       "      <td>4.0</td>\n",
       "    </tr>\n",
       "    <tr>\n",
       "      <th>5</th>\n",
       "      <td>Ashley</td>\n",
       "      <td>2</td>\n",
       "      <td>2</td>\n",
       "      <td>1.0</td>\n",
       "      <td>3</td>\n",
       "      <td>2</td>\n",
       "      <td>5.0</td>\n",
       "      <td>5.0</td>\n",
       "      <td>5.0</td>\n",
       "      <td>NaN</td>\n",
       "      <td>2.0</td>\n",
       "    </tr>\n",
       "    <tr>\n",
       "      <th>6</th>\n",
       "      <td>Michael</td>\n",
       "      <td>2</td>\n",
       "      <td>2</td>\n",
       "      <td>3.0</td>\n",
       "      <td>3</td>\n",
       "      <td>2</td>\n",
       "      <td>1.0</td>\n",
       "      <td>NaN</td>\n",
       "      <td>5.0</td>\n",
       "      <td>5.0</td>\n",
       "      <td>NaN</td>\n",
       "    </tr>\n",
       "    <tr>\n",
       "      <th>7</th>\n",
       "      <td>Rittik</td>\n",
       "      <td>5</td>\n",
       "      <td>5</td>\n",
       "      <td>4.0</td>\n",
       "      <td>3</td>\n",
       "      <td>4</td>\n",
       "      <td>2.0</td>\n",
       "      <td>4.0</td>\n",
       "      <td>5.0</td>\n",
       "      <td>4.0</td>\n",
       "      <td>NaN</td>\n",
       "    </tr>\n",
       "    <tr>\n",
       "      <th>8</th>\n",
       "      <td>Brandon</td>\n",
       "      <td>5</td>\n",
       "      <td>5</td>\n",
       "      <td>5.0</td>\n",
       "      <td>5</td>\n",
       "      <td>5</td>\n",
       "      <td>5.0</td>\n",
       "      <td>1.0</td>\n",
       "      <td>NaN</td>\n",
       "      <td>NaN</td>\n",
       "      <td>4.0</td>\n",
       "    </tr>\n",
       "    <tr>\n",
       "      <th>9</th>\n",
       "      <td>Max</td>\n",
       "      <td>4</td>\n",
       "      <td>3</td>\n",
       "      <td>1.0</td>\n",
       "      <td>4</td>\n",
       "      <td>2</td>\n",
       "      <td>NaN</td>\n",
       "      <td>4.0</td>\n",
       "      <td>1.0</td>\n",
       "      <td>5.0</td>\n",
       "      <td>4.0</td>\n",
       "    </tr>\n",
       "  </tbody>\n",
       "</table>\n",
       "</div>"
      ],
      "text/plain": [
       "  Unnamed: 0  Old Fashion  Manhattan  Negroni  Margarita  Martini  \\\n",
       "0       Finn            2          5      NaN          1        5   \n",
       "1     Marina            2          2      NaN          2        4   \n",
       "2       Aman            5          2      3.0          3        5   \n",
       "3      Anita            5          3      3.0          1        5   \n",
       "4     Jordan            4          3      NaN          4        4   \n",
       "5     Ashley            2          2      1.0          3        2   \n",
       "6    Michael            2          2      3.0          3        2   \n",
       "7     Rittik            5          5      4.0          3        4   \n",
       "8    Brandon            5          5      5.0          5        5   \n",
       "9        Max            4          3      1.0          4        2   \n",
       "\n",
       "   Whiskey Sour  Beer  Water  Soda Water  Screw Driver  \n",
       "0           4.0   5.0    5.0         2.0           NaN  \n",
       "1           NaN   4.0    5.0         NaN           1.0  \n",
       "2           4.0   3.0    5.0         3.0           NaN  \n",
       "3           3.0   1.0    5.0         NaN           5.0  \n",
       "4           4.0   4.0    4.0         1.0           4.0  \n",
       "5           5.0   5.0    5.0         NaN           2.0  \n",
       "6           1.0   NaN    5.0         5.0           NaN  \n",
       "7           2.0   4.0    5.0         4.0           NaN  \n",
       "8           5.0   1.0    NaN         NaN           4.0  \n",
       "9           NaN   4.0    1.0         5.0           4.0  "
      ]
     },
     "execution_count": 3,
     "metadata": {},
     "output_type": "execute_result"
    }
   ],
   "source": [
    "df=pd.read_csv('alcohol.csv')\n",
    "df    "
   ]
  },
  {
   "cell_type": "code",
   "execution_count": 4,
   "metadata": {},
   "outputs": [],
   "source": [
    "alice=(6.5,2.5)\n",
    "bob=(8,2)\n",
    "carol=(1,10)"
   ]
  },
  {
   "cell_type": "code",
   "execution_count": 6,
   "metadata": {},
   "outputs": [
    {
     "data": {
      "text/plain": [
       "1.5811388300841898"
      ]
     },
     "execution_count": 6,
     "metadata": {},
     "output_type": "execute_result"
    }
   ],
   "source": [
    "((alice[0]-bob[0])**2 +(alice[1]-bob[1])**2)**(1/2) "
   ]
  },
  {
   "cell_type": "code",
   "execution_count": 7,
   "metadata": {},
   "outputs": [
    {
     "data": {
      "text/plain": [
       "9.300537618869138"
      ]
     },
     "execution_count": 7,
     "metadata": {},
     "output_type": "execute_result"
    }
   ],
   "source": [
    "((alice[0]-carol[0])**2 +(alice[1]-carol[1])**2)**(1/2) "
   ]
  },
  {
   "cell_type": "code",
   "execution_count": 19,
   "metadata": {},
   "outputs": [],
   "source": [
    "df=df.rename(columns={'Unnamed: 0':'name'}).set_index('name')"
   ]
  },
  {
   "cell_type": "code",
   "execution_count": 20,
   "metadata": {},
   "outputs": [],
   "source": [
    "df=df.fillna(0)"
   ]
  },
  {
   "cell_type": "code",
   "execution_count": 21,
   "metadata": {},
   "outputs": [],
   "source": [
    "from sklearn.metrics.pairwise import euclidean_distances"
   ]
  },
  {
   "cell_type": "code",
   "execution_count": 23,
   "metadata": {},
   "outputs": [
    {
     "data": {
      "text/plain": [
       "array([[ 0.  ,  5.74,  6.  ,  8.25,  6.08,  5.66,  8.6 ,  6.24, 10.58,\n",
       "         9.22],\n",
       "       [ 5.74,  0.  ,  6.86,  7.42,  6.  ,  5.74,  7.55,  7.48, 11.  ,\n",
       "         8.  ],\n",
       "       [ 6.  ,  6.86,  0.  ,  6.63,  5.92,  6.32,  6.32,  4.12,  8.49,\n",
       "         8.31],\n",
       "       [ 8.25,  7.42,  6.63,  0.  ,  5.74,  7.48,  8.83,  7.81,  7.35,\n",
       "         9.11],\n",
       "       [ 6.08,  6.  ,  5.92,  5.74,  0.  ,  4.36,  8.77,  7.21,  7.68,\n",
       "         6.78],\n",
       "       [ 5.66,  5.74,  6.32,  7.48,  4.36,  0.  ,  8.6 ,  7.81,  9.59,\n",
       "         8.77],\n",
       "       [ 8.6 ,  7.55,  6.32,  8.83,  8.77,  8.6 ,  0.  ,  6.4 , 10.86,\n",
       "         7.68],\n",
       "       [ 6.24,  7.48,  4.12,  7.81,  7.21,  7.81,  6.4 ,  0.  ,  9.  ,\n",
       "         7.48],\n",
       "       [10.58, 11.  ,  8.49,  7.35,  7.68,  9.59, 10.86,  9.  ,  0.  ,\n",
       "         9.54],\n",
       "       [ 9.22,  8.  ,  8.31,  9.11,  6.78,  8.77,  7.68,  7.48,  9.54,\n",
       "         0.  ]])"
      ]
     },
     "execution_count": 23,
     "metadata": {},
     "output_type": "execute_result"
    }
   ],
   "source": [
    "np.round(euclidean_distances(df,df),2)"
   ]
  },
  {
   "cell_type": "code",
   "execution_count": 26,
   "metadata": {},
   "outputs": [],
   "source": [
    "similar=pd.DataFrame(\n",
    "    np.round(euclidean_distances(df,df),2),\n",
    "    columns=df.index,\n",
    "    index=df.index\n",
    ")"
   ]
  },
  {
   "cell_type": "code",
   "execution_count": 27,
   "metadata": {},
   "outputs": [
    {
     "data": {
      "text/html": [
       "<div>\n",
       "<style scoped>\n",
       "    .dataframe tbody tr th:only-of-type {\n",
       "        vertical-align: middle;\n",
       "    }\n",
       "\n",
       "    .dataframe tbody tr th {\n",
       "        vertical-align: top;\n",
       "    }\n",
       "\n",
       "    .dataframe thead th {\n",
       "        text-align: right;\n",
       "    }\n",
       "</style>\n",
       "<table border=\"1\" class=\"dataframe\">\n",
       "  <thead>\n",
       "    <tr style=\"text-align: right;\">\n",
       "      <th>name</th>\n",
       "      <th>Finn</th>\n",
       "      <th>Marina</th>\n",
       "      <th>Aman</th>\n",
       "      <th>Anita</th>\n",
       "      <th>Jordan</th>\n",
       "      <th>Ashley</th>\n",
       "      <th>Michael</th>\n",
       "      <th>Rittik</th>\n",
       "      <th>Brandon</th>\n",
       "      <th>Max</th>\n",
       "    </tr>\n",
       "    <tr>\n",
       "      <th>name</th>\n",
       "      <th></th>\n",
       "      <th></th>\n",
       "      <th></th>\n",
       "      <th></th>\n",
       "      <th></th>\n",
       "      <th></th>\n",
       "      <th></th>\n",
       "      <th></th>\n",
       "      <th></th>\n",
       "      <th></th>\n",
       "    </tr>\n",
       "  </thead>\n",
       "  <tbody>\n",
       "    <tr>\n",
       "      <th>Finn</th>\n",
       "      <td>0.00</td>\n",
       "      <td>5.74</td>\n",
       "      <td>6.00</td>\n",
       "      <td>8.25</td>\n",
       "      <td>6.08</td>\n",
       "      <td>5.66</td>\n",
       "      <td>8.60</td>\n",
       "      <td>6.24</td>\n",
       "      <td>10.58</td>\n",
       "      <td>9.22</td>\n",
       "    </tr>\n",
       "    <tr>\n",
       "      <th>Marina</th>\n",
       "      <td>5.74</td>\n",
       "      <td>0.00</td>\n",
       "      <td>6.86</td>\n",
       "      <td>7.42</td>\n",
       "      <td>6.00</td>\n",
       "      <td>5.74</td>\n",
       "      <td>7.55</td>\n",
       "      <td>7.48</td>\n",
       "      <td>11.00</td>\n",
       "      <td>8.00</td>\n",
       "    </tr>\n",
       "    <tr>\n",
       "      <th>Aman</th>\n",
       "      <td>6.00</td>\n",
       "      <td>6.86</td>\n",
       "      <td>0.00</td>\n",
       "      <td>6.63</td>\n",
       "      <td>5.92</td>\n",
       "      <td>6.32</td>\n",
       "      <td>6.32</td>\n",
       "      <td>4.12</td>\n",
       "      <td>8.49</td>\n",
       "      <td>8.31</td>\n",
       "    </tr>\n",
       "    <tr>\n",
       "      <th>Anita</th>\n",
       "      <td>8.25</td>\n",
       "      <td>7.42</td>\n",
       "      <td>6.63</td>\n",
       "      <td>0.00</td>\n",
       "      <td>5.74</td>\n",
       "      <td>7.48</td>\n",
       "      <td>8.83</td>\n",
       "      <td>7.81</td>\n",
       "      <td>7.35</td>\n",
       "      <td>9.11</td>\n",
       "    </tr>\n",
       "    <tr>\n",
       "      <th>Jordan</th>\n",
       "      <td>6.08</td>\n",
       "      <td>6.00</td>\n",
       "      <td>5.92</td>\n",
       "      <td>5.74</td>\n",
       "      <td>0.00</td>\n",
       "      <td>4.36</td>\n",
       "      <td>8.77</td>\n",
       "      <td>7.21</td>\n",
       "      <td>7.68</td>\n",
       "      <td>6.78</td>\n",
       "    </tr>\n",
       "    <tr>\n",
       "      <th>Ashley</th>\n",
       "      <td>5.66</td>\n",
       "      <td>5.74</td>\n",
       "      <td>6.32</td>\n",
       "      <td>7.48</td>\n",
       "      <td>4.36</td>\n",
       "      <td>0.00</td>\n",
       "      <td>8.60</td>\n",
       "      <td>7.81</td>\n",
       "      <td>9.59</td>\n",
       "      <td>8.77</td>\n",
       "    </tr>\n",
       "    <tr>\n",
       "      <th>Michael</th>\n",
       "      <td>8.60</td>\n",
       "      <td>7.55</td>\n",
       "      <td>6.32</td>\n",
       "      <td>8.83</td>\n",
       "      <td>8.77</td>\n",
       "      <td>8.60</td>\n",
       "      <td>0.00</td>\n",
       "      <td>6.40</td>\n",
       "      <td>10.86</td>\n",
       "      <td>7.68</td>\n",
       "    </tr>\n",
       "    <tr>\n",
       "      <th>Rittik</th>\n",
       "      <td>6.24</td>\n",
       "      <td>7.48</td>\n",
       "      <td>4.12</td>\n",
       "      <td>7.81</td>\n",
       "      <td>7.21</td>\n",
       "      <td>7.81</td>\n",
       "      <td>6.40</td>\n",
       "      <td>0.00</td>\n",
       "      <td>9.00</td>\n",
       "      <td>7.48</td>\n",
       "    </tr>\n",
       "    <tr>\n",
       "      <th>Brandon</th>\n",
       "      <td>10.58</td>\n",
       "      <td>11.00</td>\n",
       "      <td>8.49</td>\n",
       "      <td>7.35</td>\n",
       "      <td>7.68</td>\n",
       "      <td>9.59</td>\n",
       "      <td>10.86</td>\n",
       "      <td>9.00</td>\n",
       "      <td>0.00</td>\n",
       "      <td>9.54</td>\n",
       "    </tr>\n",
       "    <tr>\n",
       "      <th>Max</th>\n",
       "      <td>9.22</td>\n",
       "      <td>8.00</td>\n",
       "      <td>8.31</td>\n",
       "      <td>9.11</td>\n",
       "      <td>6.78</td>\n",
       "      <td>8.77</td>\n",
       "      <td>7.68</td>\n",
       "      <td>7.48</td>\n",
       "      <td>9.54</td>\n",
       "      <td>0.00</td>\n",
       "    </tr>\n",
       "  </tbody>\n",
       "</table>\n",
       "</div>"
      ],
      "text/plain": [
       "name      Finn  Marina  Aman  Anita  Jordan  Ashley  Michael  Rittik  Brandon  \\\n",
       "name                                                                            \n",
       "Finn      0.00    5.74  6.00   8.25    6.08    5.66     8.60    6.24    10.58   \n",
       "Marina    5.74    0.00  6.86   7.42    6.00    5.74     7.55    7.48    11.00   \n",
       "Aman      6.00    6.86  0.00   6.63    5.92    6.32     6.32    4.12     8.49   \n",
       "Anita     8.25    7.42  6.63   0.00    5.74    7.48     8.83    7.81     7.35   \n",
       "Jordan    6.08    6.00  5.92   5.74    0.00    4.36     8.77    7.21     7.68   \n",
       "Ashley    5.66    5.74  6.32   7.48    4.36    0.00     8.60    7.81     9.59   \n",
       "Michael   8.60    7.55  6.32   8.83    8.77    8.60     0.00    6.40    10.86   \n",
       "Rittik    6.24    7.48  4.12   7.81    7.21    7.81     6.40    0.00     9.00   \n",
       "Brandon  10.58   11.00  8.49   7.35    7.68    9.59    10.86    9.00     0.00   \n",
       "Max       9.22    8.00  8.31   9.11    6.78    8.77     7.68    7.48     9.54   \n",
       "\n",
       "name      Max  \n",
       "name           \n",
       "Finn     9.22  \n",
       "Marina   8.00  \n",
       "Aman     8.31  \n",
       "Anita    9.11  \n",
       "Jordan   6.78  \n",
       "Ashley   8.77  \n",
       "Michael  7.68  \n",
       "Rittik   7.48  \n",
       "Brandon  9.54  \n",
       "Max      0.00  "
      ]
     },
     "execution_count": 27,
     "metadata": {},
     "output_type": "execute_result"
    }
   ],
   "source": [
    "similar # Max is close to Jordan"
   ]
  },
  {
   "cell_type": "code",
   "execution_count": 28,
   "metadata": {},
   "outputs": [
    {
     "data": {
      "text/plain": [
       "name\n",
       "Jordan     6.78\n",
       "Rittik     7.48\n",
       "Michael    7.68\n",
       "Marina     8.00\n",
       "Aman       8.31\n",
       "Ashley     8.77\n",
       "Anita      9.11\n",
       "Finn       9.22\n",
       "Brandon    9.54\n",
       "Name: Max, dtype: float64"
      ]
     },
     "execution_count": 28,
     "metadata": {},
     "output_type": "execute_result"
    }
   ],
   "source": [
    "similar.loc['Max'].sort_values(ascending=True)[1:]"
   ]
  },
  {
   "cell_type": "code",
   "execution_count": 29,
   "metadata": {},
   "outputs": [
    {
     "data": {
      "text/plain": [
       "[4.0, 3.0, 1.0, 4.0, 2.0, 0.0, 4.0, 1.0, 5.0, 4.0]"
      ]
     },
     "execution_count": 29,
     "metadata": {},
     "output_type": "execute_result"
    }
   ],
   "source": [
    "list(df.loc['Max'])"
   ]
  },
  {
   "cell_type": "code",
   "execution_count": 30,
   "metadata": {},
   "outputs": [
    {
     "data": {
      "text/plain": [
       "[(4.0, 4.0),\n",
       " (3.0, 3.0),\n",
       " (1.0, 0.0),\n",
       " (4.0, 4.0),\n",
       " (2.0, 4.0),\n",
       " (0.0, 4.0),\n",
       " (4.0, 4.0),\n",
       " (1.0, 4.0),\n",
       " (5.0, 1.0),\n",
       " (4.0, 4.0)]"
      ]
     },
     "execution_count": 30,
     "metadata": {},
     "output_type": "execute_result"
    }
   ],
   "source": [
    "list(zip(df.loc['Max'],df.loc['Jordan']))"
   ]
  },
  {
   "cell_type": "code",
   "execution_count": 31,
   "metadata": {},
   "outputs": [
    {
     "data": {
      "text/plain": [
       "'Whiskey Sour'"
      ]
     },
     "execution_count": 31,
     "metadata": {},
     "output_type": "execute_result"
    }
   ],
   "source": [
    "df.loc['Jordan'].index[5]"
   ]
  },
  {
   "cell_type": "code",
   "execution_count": null,
   "metadata": {},
   "outputs": [],
   "source": []
  }
 ],
 "metadata": {
  "kernelspec": {
   "display_name": "Python 3",
   "language": "python",
   "name": "python3"
  },
  "language_info": {
   "codemirror_mode": {
    "name": "ipython",
    "version": 3
   },
   "file_extension": ".py",
   "mimetype": "text/x-python",
   "name": "python",
   "nbconvert_exporter": "python",
   "pygments_lexer": "ipython3",
   "version": "3.7.6"
  }
 },
 "nbformat": 4,
 "nbformat_minor": 4
}
